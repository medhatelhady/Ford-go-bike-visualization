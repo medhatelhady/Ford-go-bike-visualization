{
 "cells": [
  {
   "cell_type": "markdown",
   "metadata": {
    "slideshow": {
     "slide_type": "slide"
    }
   },
   "source": [
    "# Ford GoBike System 2019\n"
   ]
  },
  {
   "cell_type": "markdown",
   "metadata": {
    "slideshow": {
     "slide_type": "slide"
    }
   },
   "source": [
    "## Introduction\n",
    "Bay Wheels is a regional public bicycle sharing system in the San Francisco Bay Area, California operated by Motivate in a partnership with the Metropolitan Transportation Commission and the Bay Area Air Quality Management District.[3] Bay Wheels is the first regional and large-scale bicycle sharing system deployed in California and on the West Coast of the United States. It was established as Bay Area Bike Share in August 2013. As of January 2018, the Bay Wheels system had over 2,600 bicycles in 262 stations across San Francisco, East Bay and San Jose. On June 28, 2017, the system officially re-launched as Ford GoBike in a partnership with Ford Motor Company. After Motivate's acquisition by Lyft, the system was subsequently renamed to Bay Wheels in June 2019. The system is expected to expand to 7,000 bicycles around 540 stations in San Francisco, Oakland, Berkeley, Emeryville, and San Jose "
   ]
  },
  {
   "cell_type": "markdown",
   "metadata": {
    "slideshow": {
     "slide_type": "-"
    }
   },
   "source": [
    "## task\n",
    " - wrangle ford go bike data of 2019 which is avaliable here https://www.fordgobike.com/system-data \n",
    " - Explore the data and document the findings in a report"
   ]
  },
  {
   "cell_type": "markdown",
   "metadata": {
    "slideshow": {
     "slide_type": "slide"
    }
   },
   "source": [
    "## Data \n",
    "the data contains 15 columns which is:\n",
    "\n",
    "- Trip Duration (seconds)\n",
    "- Start Time and Date\n",
    "- End Time and Date\n",
    "- Start Station ID\n",
    "- Start Station Name\n",
    "- Start Station Latitude\n",
    "- Start Station Longitude\n",
    "- End Station ID\n",
    "- End Station Name\n",
    "- End Station Latitude\n",
    "- End Station Longitude\n",
    "- Bike ID\n",
    "- User Type (Subscriber or Customer – “Subscriber” = Member or “Customer” = Casual)\n",
    "- bike share for all trip\n",
    "- rental access method "
   ]
  },
  {
   "cell_type": "markdown",
   "metadata": {
    "slideshow": {
     "slide_type": "skip"
    }
   },
   "source": [
    "## import important libraries"
   ]
  },
  {
   "cell_type": "code",
   "execution_count": 1,
   "metadata": {
    "slideshow": {
     "slide_type": "skip"
    }
   },
   "outputs": [],
   "source": [
    "import pandas as pd\n",
    "import numpy as np \n",
    "import matplotlib.pyplot as plt\n",
    "import seaborn as sb\n",
    "import matplotlib.patches as mpatches\n",
    "\n",
    "\n",
    "%matplotlib inline"
   ]
  },
  {
   "cell_type": "markdown",
   "metadata": {
    "slideshow": {
     "slide_type": "skip"
    }
   },
   "source": [
    "## Gathering Data"
   ]
  },
  {
   "cell_type": "code",
   "execution_count": 2,
   "metadata": {
    "slideshow": {
     "slide_type": "skip"
    }
   },
   "outputs": [],
   "source": [
    "#collecting names of data files in list\n",
    "data_name=['201901-fordgobike-tripdata.csv','201902-fordgobike-tripdata.csv',\n",
    "           '201903-fordgobike-tripdata.csv','201904-fordgobike-tripdata.csv','201905-baywheels-tripdata.csv',\n",
    "           '201906-baywheels-tripdata.csv','201907-baywheels-tripdata.csv','201908-baywheels-tripdata.csv',\n",
    "           '201909-baywheels-tripdata.csv','201910-baywheels-tripdata.csv','201911-baywheels-tripdata.csv',\n",
    "           '201912-baywheels-tripdata.csv']"
   ]
  },
  {
   "cell_type": "code",
   "execution_count": 3,
   "metadata": {
    "slideshow": {
     "slide_type": "skip"
    }
   },
   "outputs": [
    {
     "data": {
      "text/html": [
       "<div>\n",
       "<style scoped>\n",
       "    .dataframe tbody tr th:only-of-type {\n",
       "        vertical-align: middle;\n",
       "    }\n",
       "\n",
       "    .dataframe tbody tr th {\n",
       "        vertical-align: top;\n",
       "    }\n",
       "\n",
       "    .dataframe thead th {\n",
       "        text-align: right;\n",
       "    }\n",
       "</style>\n",
       "<table border=\"1\" class=\"dataframe\">\n",
       "  <thead>\n",
       "    <tr style=\"text-align: right;\">\n",
       "      <th></th>\n",
       "      <th>duration_sec</th>\n",
       "      <th>start_time</th>\n",
       "      <th>end_time</th>\n",
       "      <th>start_station_id</th>\n",
       "      <th>start_station_name</th>\n",
       "      <th>start_station_latitude</th>\n",
       "      <th>start_station_longitude</th>\n",
       "      <th>end_station_id</th>\n",
       "      <th>end_station_name</th>\n",
       "      <th>end_station_latitude</th>\n",
       "      <th>end_station_longitude</th>\n",
       "      <th>bike_id</th>\n",
       "      <th>user_type</th>\n",
       "      <th>bike_share_for_all_trip</th>\n",
       "      <th>rental_access_method</th>\n",
       "    </tr>\n",
       "  </thead>\n",
       "  <tbody>\n",
       "    <tr>\n",
       "      <td>0</td>\n",
       "      <td>66600</td>\n",
       "      <td>2019-12-31 14:28:50.2860</td>\n",
       "      <td>2020-01-01 08:58:51.2500</td>\n",
       "      <td>364</td>\n",
       "      <td>China Basin St at 3rd St</td>\n",
       "      <td>37.772000</td>\n",
       "      <td>-122.389970</td>\n",
       "      <td>349</td>\n",
       "      <td>Howard St at Mary St</td>\n",
       "      <td>37.781010</td>\n",
       "      <td>-122.405666</td>\n",
       "      <td>12085</td>\n",
       "      <td>Customer</td>\n",
       "      <td>No</td>\n",
       "      <td>NaN</td>\n",
       "    </tr>\n",
       "    <tr>\n",
       "      <td>1</td>\n",
       "      <td>36526</td>\n",
       "      <td>2019-12-31 21:52:47.7620</td>\n",
       "      <td>2020-01-01 08:01:33.9320</td>\n",
       "      <td>38</td>\n",
       "      <td>The Embarcadero at Pier 38</td>\n",
       "      <td>37.782926</td>\n",
       "      <td>-122.387921</td>\n",
       "      <td>410</td>\n",
       "      <td>Illinois St at Cesar Chavez St</td>\n",
       "      <td>37.750200</td>\n",
       "      <td>-122.386567</td>\n",
       "      <td>9477</td>\n",
       "      <td>Customer</td>\n",
       "      <td>No</td>\n",
       "      <td>NaN</td>\n",
       "    </tr>\n",
       "    <tr>\n",
       "      <td>2</td>\n",
       "      <td>8164</td>\n",
       "      <td>2019-12-31 23:50:04.8770</td>\n",
       "      <td>2020-01-01 02:06:09.4140</td>\n",
       "      <td>14</td>\n",
       "      <td>Clay St at Battery St</td>\n",
       "      <td>37.795001</td>\n",
       "      <td>-122.399970</td>\n",
       "      <td>6</td>\n",
       "      <td>The Embarcadero at Sansome St</td>\n",
       "      <td>37.804770</td>\n",
       "      <td>-122.403234</td>\n",
       "      <td>10420</td>\n",
       "      <td>Customer</td>\n",
       "      <td>No</td>\n",
       "      <td>NaN</td>\n",
       "    </tr>\n",
       "    <tr>\n",
       "      <td>3</td>\n",
       "      <td>8163</td>\n",
       "      <td>2019-12-31 23:49:21.4000</td>\n",
       "      <td>2020-01-01 02:05:24.6670</td>\n",
       "      <td>14</td>\n",
       "      <td>Clay St at Battery St</td>\n",
       "      <td>37.795001</td>\n",
       "      <td>-122.399970</td>\n",
       "      <td>6</td>\n",
       "      <td>The Embarcadero at Sansome St</td>\n",
       "      <td>37.804770</td>\n",
       "      <td>-122.403234</td>\n",
       "      <td>2065</td>\n",
       "      <td>Customer</td>\n",
       "      <td>No</td>\n",
       "      <td>NaN</td>\n",
       "    </tr>\n",
       "    <tr>\n",
       "      <td>4</td>\n",
       "      <td>6847</td>\n",
       "      <td>2019-12-31 22:51:05.6850</td>\n",
       "      <td>2020-01-01 00:45:13.4860</td>\n",
       "      <td>3</td>\n",
       "      <td>Powell St BART Station (Market St at 4th St)</td>\n",
       "      <td>37.786375</td>\n",
       "      <td>-122.404904</td>\n",
       "      <td>363</td>\n",
       "      <td>Salesforce Transit Center (Natoma St at 2nd St)</td>\n",
       "      <td>37.787492</td>\n",
       "      <td>-122.398285</td>\n",
       "      <td>10219</td>\n",
       "      <td>Customer</td>\n",
       "      <td>No</td>\n",
       "      <td>NaN</td>\n",
       "    </tr>\n",
       "  </tbody>\n",
       "</table>\n",
       "</div>"
      ],
      "text/plain": [
       "   duration_sec                start_time                  end_time  \\\n",
       "0         66600  2019-12-31 14:28:50.2860  2020-01-01 08:58:51.2500   \n",
       "1         36526  2019-12-31 21:52:47.7620  2020-01-01 08:01:33.9320   \n",
       "2          8164  2019-12-31 23:50:04.8770  2020-01-01 02:06:09.4140   \n",
       "3          8163  2019-12-31 23:49:21.4000  2020-01-01 02:05:24.6670   \n",
       "4          6847  2019-12-31 22:51:05.6850  2020-01-01 00:45:13.4860   \n",
       "\n",
       "   start_station_id                            start_station_name  \\\n",
       "0               364                      China Basin St at 3rd St   \n",
       "1                38                    The Embarcadero at Pier 38   \n",
       "2                14                         Clay St at Battery St   \n",
       "3                14                         Clay St at Battery St   \n",
       "4                 3  Powell St BART Station (Market St at 4th St)   \n",
       "\n",
       "   start_station_latitude  start_station_longitude  end_station_id  \\\n",
       "0               37.772000              -122.389970             349   \n",
       "1               37.782926              -122.387921             410   \n",
       "2               37.795001              -122.399970               6   \n",
       "3               37.795001              -122.399970               6   \n",
       "4               37.786375              -122.404904             363   \n",
       "\n",
       "                                  end_station_name  end_station_latitude  \\\n",
       "0                             Howard St at Mary St             37.781010   \n",
       "1                   Illinois St at Cesar Chavez St             37.750200   \n",
       "2                    The Embarcadero at Sansome St             37.804770   \n",
       "3                    The Embarcadero at Sansome St             37.804770   \n",
       "4  Salesforce Transit Center (Natoma St at 2nd St)             37.787492   \n",
       "\n",
       "   end_station_longitude  bike_id user_type bike_share_for_all_trip  \\\n",
       "0            -122.405666    12085  Customer                      No   \n",
       "1            -122.386567     9477  Customer                      No   \n",
       "2            -122.403234    10420  Customer                      No   \n",
       "3            -122.403234     2065  Customer                      No   \n",
       "4            -122.398285    10219  Customer                      No   \n",
       "\n",
       "   rental_access_method  \n",
       "0                   NaN  \n",
       "1                   NaN  \n",
       "2                   NaN  \n",
       "3                   NaN  \n",
       "4                   NaN  "
      ]
     },
     "execution_count": 3,
     "metadata": {},
     "output_type": "execute_result"
    }
   ],
   "source": [
    "# in decamber data , rows from no.122422 to the end of data set was corrupted and  software can not read it\n",
    "# reading the first 122421 rows \n",
    "data_12=pd.read_csv(data_name[11],nrows=122421)\n",
    "data_12.head()"
   ]
  },
  {
   "cell_type": "code",
   "execution_count": 4,
   "metadata": {
    "slideshow": {
     "slide_type": "-"
    }
   },
   "outputs": [
    {
     "data": {
      "text/html": [
       "<div>\n",
       "<style scoped>\n",
       "    .dataframe tbody tr th:only-of-type {\n",
       "        vertical-align: middle;\n",
       "    }\n",
       "\n",
       "    .dataframe tbody tr th {\n",
       "        vertical-align: top;\n",
       "    }\n",
       "\n",
       "    .dataframe thead th {\n",
       "        text-align: right;\n",
       "    }\n",
       "</style>\n",
       "<table border=\"1\" class=\"dataframe\">\n",
       "  <thead>\n",
       "    <tr style=\"text-align: right;\">\n",
       "      <th></th>\n",
       "      <th>bike_id</th>\n",
       "      <th>bike_share_for_all_trip</th>\n",
       "      <th>duration_sec</th>\n",
       "      <th>end_station_id</th>\n",
       "      <th>end_station_latitude</th>\n",
       "      <th>end_station_longitude</th>\n",
       "      <th>end_station_name</th>\n",
       "      <th>end_time</th>\n",
       "      <th>rental_access_method</th>\n",
       "      <th>start_station_id</th>\n",
       "      <th>start_station_latitude</th>\n",
       "      <th>start_station_longitude</th>\n",
       "      <th>start_station_name</th>\n",
       "      <th>start_time</th>\n",
       "      <th>user_type</th>\n",
       "    </tr>\n",
       "  </thead>\n",
       "  <tbody>\n",
       "    <tr>\n",
       "      <td>0</td>\n",
       "      <td>4861</td>\n",
       "      <td>No</td>\n",
       "      <td>80825</td>\n",
       "      <td>196.0</td>\n",
       "      <td>37.808894</td>\n",
       "      <td>-122.256460</td>\n",
       "      <td>Grand Ave at Perkins St</td>\n",
       "      <td>2019-02-01 16:24:49.8640</td>\n",
       "      <td>NaN</td>\n",
       "      <td>229.0</td>\n",
       "      <td>37.775745</td>\n",
       "      <td>-122.213037</td>\n",
       "      <td>Foothill Blvd at 42nd Ave</td>\n",
       "      <td>2019-01-31 17:57:44.6130</td>\n",
       "      <td>Subscriber</td>\n",
       "    </tr>\n",
       "    <tr>\n",
       "      <td>1</td>\n",
       "      <td>5506</td>\n",
       "      <td>No</td>\n",
       "      <td>65900</td>\n",
       "      <td>134.0</td>\n",
       "      <td>37.752428</td>\n",
       "      <td>-122.420628</td>\n",
       "      <td>Valencia St at 24th St</td>\n",
       "      <td>2019-02-01 15:16:54.1730</td>\n",
       "      <td>NaN</td>\n",
       "      <td>4.0</td>\n",
       "      <td>37.785881</td>\n",
       "      <td>-122.408915</td>\n",
       "      <td>Cyril Magnin St at Ellis St</td>\n",
       "      <td>2019-01-31 20:58:33.8860</td>\n",
       "      <td>Subscriber</td>\n",
       "    </tr>\n",
       "    <tr>\n",
       "      <td>2</td>\n",
       "      <td>2717</td>\n",
       "      <td>No</td>\n",
       "      <td>62633</td>\n",
       "      <td>157.0</td>\n",
       "      <td>37.846784</td>\n",
       "      <td>-122.291376</td>\n",
       "      <td>65th St at Hollis St</td>\n",
       "      <td>2019-02-01 11:30:46.5300</td>\n",
       "      <td>NaN</td>\n",
       "      <td>245.0</td>\n",
       "      <td>37.870139</td>\n",
       "      <td>-122.268422</td>\n",
       "      <td>Downtown Berkeley BART</td>\n",
       "      <td>2019-01-31 18:06:52.9240</td>\n",
       "      <td>Customer</td>\n",
       "    </tr>\n",
       "    <tr>\n",
       "      <td>3</td>\n",
       "      <td>4557</td>\n",
       "      <td>No</td>\n",
       "      <td>44680</td>\n",
       "      <td>53.0</td>\n",
       "      <td>37.775946</td>\n",
       "      <td>-122.437777</td>\n",
       "      <td>Grove St at Divisadero</td>\n",
       "      <td>2019-02-01 08:10:50.3180</td>\n",
       "      <td>NaN</td>\n",
       "      <td>85.0</td>\n",
       "      <td>37.770083</td>\n",
       "      <td>-122.429156</td>\n",
       "      <td>Church St at Duboce Ave</td>\n",
       "      <td>2019-01-31 19:46:09.7190</td>\n",
       "      <td>Customer</td>\n",
       "    </tr>\n",
       "    <tr>\n",
       "      <td>4</td>\n",
       "      <td>2100</td>\n",
       "      <td>No</td>\n",
       "      <td>60709</td>\n",
       "      <td>28.0</td>\n",
       "      <td>37.787168</td>\n",
       "      <td>-122.388098</td>\n",
       "      <td>The Embarcadero at Bryant St</td>\n",
       "      <td>2019-02-01 07:10:51.0650</td>\n",
       "      <td>NaN</td>\n",
       "      <td>16.0</td>\n",
       "      <td>37.794130</td>\n",
       "      <td>-122.394430</td>\n",
       "      <td>Steuart St at Market St</td>\n",
       "      <td>2019-01-31 14:19:01.5410</td>\n",
       "      <td>Customer</td>\n",
       "    </tr>\n",
       "    <tr>\n",
       "      <td>...</td>\n",
       "      <td>...</td>\n",
       "      <td>...</td>\n",
       "      <td>...</td>\n",
       "      <td>...</td>\n",
       "      <td>...</td>\n",
       "      <td>...</td>\n",
       "      <td>...</td>\n",
       "      <td>...</td>\n",
       "      <td>...</td>\n",
       "      <td>...</td>\n",
       "      <td>...</td>\n",
       "      <td>...</td>\n",
       "      <td>...</td>\n",
       "      <td>...</td>\n",
       "      <td>...</td>\n",
       "    </tr>\n",
       "    <tr>\n",
       "      <td>2356876</td>\n",
       "      <td>320825</td>\n",
       "      <td>NaN</td>\n",
       "      <td>3699</td>\n",
       "      <td>NaN</td>\n",
       "      <td>37.776148</td>\n",
       "      <td>-122.392519</td>\n",
       "      <td>NaN</td>\n",
       "      <td>2019-11-09 17:24:43</td>\n",
       "      <td>app</td>\n",
       "      <td>NaN</td>\n",
       "      <td>37.805850</td>\n",
       "      <td>-122.470256</td>\n",
       "      <td>NaN</td>\n",
       "      <td>2019-11-09 16:23:04</td>\n",
       "      <td>Subscriber</td>\n",
       "    </tr>\n",
       "    <tr>\n",
       "      <td>2356877</td>\n",
       "      <td>561068</td>\n",
       "      <td>NaN</td>\n",
       "      <td>4099</td>\n",
       "      <td>NaN</td>\n",
       "      <td>37.827707</td>\n",
       "      <td>-122.481640</td>\n",
       "      <td>NaN</td>\n",
       "      <td>2019-11-23 12:00:55</td>\n",
       "      <td>app</td>\n",
       "      <td>NaN</td>\n",
       "      <td>37.806367</td>\n",
       "      <td>-122.435708</td>\n",
       "      <td>NaN</td>\n",
       "      <td>2019-11-23 10:52:35</td>\n",
       "      <td>Subscriber</td>\n",
       "    </tr>\n",
       "    <tr>\n",
       "      <td>2356878</td>\n",
       "      <td>713264</td>\n",
       "      <td>NaN</td>\n",
       "      <td>3938</td>\n",
       "      <td>NaN</td>\n",
       "      <td>37.805155</td>\n",
       "      <td>-122.448127</td>\n",
       "      <td>NaN</td>\n",
       "      <td>2019-11-23 11:57:55</td>\n",
       "      <td>app</td>\n",
       "      <td>NaN</td>\n",
       "      <td>37.806381</td>\n",
       "      <td>-122.435732</td>\n",
       "      <td>NaN</td>\n",
       "      <td>2019-11-23 10:52:16</td>\n",
       "      <td>Subscriber</td>\n",
       "    </tr>\n",
       "    <tr>\n",
       "      <td>2356879</td>\n",
       "      <td>283550</td>\n",
       "      <td>NaN</td>\n",
       "      <td>1457</td>\n",
       "      <td>NaN</td>\n",
       "      <td>37.774648</td>\n",
       "      <td>-122.414078</td>\n",
       "      <td>NaN</td>\n",
       "      <td>2019-11-01 13:02:01</td>\n",
       "      <td>app</td>\n",
       "      <td>NaN</td>\n",
       "      <td>37.806662</td>\n",
       "      <td>-122.413747</td>\n",
       "      <td>NaN</td>\n",
       "      <td>2019-11-01 12:37:43</td>\n",
       "      <td>Subscriber</td>\n",
       "    </tr>\n",
       "    <tr>\n",
       "      <td>2356880</td>\n",
       "      <td>185504</td>\n",
       "      <td>NaN</td>\n",
       "      <td>3890</td>\n",
       "      <td>NaN</td>\n",
       "      <td>37.758382</td>\n",
       "      <td>-122.387424</td>\n",
       "      <td>NaN</td>\n",
       "      <td>2019-11-10 16:37:26</td>\n",
       "      <td>app</td>\n",
       "      <td>NaN</td>\n",
       "      <td>37.807383</td>\n",
       "      <td>-122.435960</td>\n",
       "      <td>NaN</td>\n",
       "      <td>2019-11-10 15:32:35</td>\n",
       "      <td>Subscriber</td>\n",
       "    </tr>\n",
       "  </tbody>\n",
       "</table>\n",
       "<p>2356881 rows × 15 columns</p>\n",
       "</div>"
      ],
      "text/plain": [
       "         bike_id bike_share_for_all_trip  duration_sec  end_station_id  \\\n",
       "0           4861                      No         80825           196.0   \n",
       "1           5506                      No         65900           134.0   \n",
       "2           2717                      No         62633           157.0   \n",
       "3           4557                      No         44680            53.0   \n",
       "4           2100                      No         60709            28.0   \n",
       "...          ...                     ...           ...             ...   \n",
       "2356876   320825                     NaN          3699             NaN   \n",
       "2356877   561068                     NaN          4099             NaN   \n",
       "2356878   713264                     NaN          3938             NaN   \n",
       "2356879   283550                     NaN          1457             NaN   \n",
       "2356880   185504                     NaN          3890             NaN   \n",
       "\n",
       "         end_station_latitude  end_station_longitude  \\\n",
       "0                   37.808894            -122.256460   \n",
       "1                   37.752428            -122.420628   \n",
       "2                   37.846784            -122.291376   \n",
       "3                   37.775946            -122.437777   \n",
       "4                   37.787168            -122.388098   \n",
       "...                       ...                    ...   \n",
       "2356876             37.776148            -122.392519   \n",
       "2356877             37.827707            -122.481640   \n",
       "2356878             37.805155            -122.448127   \n",
       "2356879             37.774648            -122.414078   \n",
       "2356880             37.758382            -122.387424   \n",
       "\n",
       "                     end_station_name                  end_time  \\\n",
       "0             Grand Ave at Perkins St  2019-02-01 16:24:49.8640   \n",
       "1              Valencia St at 24th St  2019-02-01 15:16:54.1730   \n",
       "2                65th St at Hollis St  2019-02-01 11:30:46.5300   \n",
       "3              Grove St at Divisadero  2019-02-01 08:10:50.3180   \n",
       "4        The Embarcadero at Bryant St  2019-02-01 07:10:51.0650   \n",
       "...                               ...                       ...   \n",
       "2356876                           NaN       2019-11-09 17:24:43   \n",
       "2356877                           NaN       2019-11-23 12:00:55   \n",
       "2356878                           NaN       2019-11-23 11:57:55   \n",
       "2356879                           NaN       2019-11-01 13:02:01   \n",
       "2356880                           NaN       2019-11-10 16:37:26   \n",
       "\n",
       "        rental_access_method  start_station_id  start_station_latitude  \\\n",
       "0                        NaN             229.0               37.775745   \n",
       "1                        NaN               4.0               37.785881   \n",
       "2                        NaN             245.0               37.870139   \n",
       "3                        NaN              85.0               37.770083   \n",
       "4                        NaN              16.0               37.794130   \n",
       "...                      ...               ...                     ...   \n",
       "2356876                  app               NaN               37.805850   \n",
       "2356877                  app               NaN               37.806367   \n",
       "2356878                  app               NaN               37.806381   \n",
       "2356879                  app               NaN               37.806662   \n",
       "2356880                  app               NaN               37.807383   \n",
       "\n",
       "         start_station_longitude           start_station_name  \\\n",
       "0                    -122.213037    Foothill Blvd at 42nd Ave   \n",
       "1                    -122.408915  Cyril Magnin St at Ellis St   \n",
       "2                    -122.268422       Downtown Berkeley BART   \n",
       "3                    -122.429156      Church St at Duboce Ave   \n",
       "4                    -122.394430      Steuart St at Market St   \n",
       "...                          ...                          ...   \n",
       "2356876              -122.470256                          NaN   \n",
       "2356877              -122.435708                          NaN   \n",
       "2356878              -122.435732                          NaN   \n",
       "2356879              -122.413747                          NaN   \n",
       "2356880              -122.435960                          NaN   \n",
       "\n",
       "                       start_time   user_type  \n",
       "0        2019-01-31 17:57:44.6130  Subscriber  \n",
       "1        2019-01-31 20:58:33.8860  Subscriber  \n",
       "2        2019-01-31 18:06:52.9240    Customer  \n",
       "3        2019-01-31 19:46:09.7190    Customer  \n",
       "4        2019-01-31 14:19:01.5410    Customer  \n",
       "...                           ...         ...  \n",
       "2356876       2019-11-09 16:23:04  Subscriber  \n",
       "2356877       2019-11-23 10:52:35  Subscriber  \n",
       "2356878       2019-11-23 10:52:16  Subscriber  \n",
       "2356879       2019-11-01 12:37:43  Subscriber  \n",
       "2356880       2019-11-10 15:32:35  Subscriber  \n",
       "\n",
       "[2356881 rows x 15 columns]"
      ]
     },
     "execution_count": 4,
     "metadata": {},
     "output_type": "execute_result"
    }
   ],
   "source": [
    "#read rest of data \n",
    "df=pd.read_csv(data_name[0])\n",
    "for i in range(1,len(data_name)-1):\n",
    "    df=pd.concat([df,pd.read_csv(data_name[i],low_memory=False)],ignore_index=True,sort=True)\n",
    "df"
   ]
  },
  {
   "cell_type": "code",
   "execution_count": 5,
   "metadata": {
    "slideshow": {
     "slide_type": "skip"
    }
   },
   "outputs": [],
   "source": [
    "# concat december data with rest of data\n",
    "df=pd.concat([df,data_12],ignore_index=True,sort=True)"
   ]
  },
  {
   "cell_type": "code",
   "execution_count": 6,
   "metadata": {},
   "outputs": [
    {
     "data": {
      "text/html": [
       "<div>\n",
       "<style scoped>\n",
       "    .dataframe tbody tr th:only-of-type {\n",
       "        vertical-align: middle;\n",
       "    }\n",
       "\n",
       "    .dataframe tbody tr th {\n",
       "        vertical-align: top;\n",
       "    }\n",
       "\n",
       "    .dataframe thead th {\n",
       "        text-align: right;\n",
       "    }\n",
       "</style>\n",
       "<table border=\"1\" class=\"dataframe\">\n",
       "  <thead>\n",
       "    <tr style=\"text-align: right;\">\n",
       "      <th></th>\n",
       "      <th>bike_id</th>\n",
       "      <th>bike_share_for_all_trip</th>\n",
       "      <th>duration_sec</th>\n",
       "      <th>end_station_id</th>\n",
       "      <th>end_station_latitude</th>\n",
       "      <th>end_station_longitude</th>\n",
       "      <th>end_station_name</th>\n",
       "      <th>end_time</th>\n",
       "      <th>rental_access_method</th>\n",
       "      <th>start_station_id</th>\n",
       "      <th>start_station_latitude</th>\n",
       "      <th>start_station_longitude</th>\n",
       "      <th>start_station_name</th>\n",
       "      <th>start_time</th>\n",
       "      <th>user_type</th>\n",
       "    </tr>\n",
       "  </thead>\n",
       "  <tbody>\n",
       "    <tr>\n",
       "      <td>0</td>\n",
       "      <td>4861</td>\n",
       "      <td>No</td>\n",
       "      <td>80825</td>\n",
       "      <td>196.0</td>\n",
       "      <td>37.808894</td>\n",
       "      <td>-122.256460</td>\n",
       "      <td>Grand Ave at Perkins St</td>\n",
       "      <td>2019-02-01 16:24:49.8640</td>\n",
       "      <td>NaN</td>\n",
       "      <td>229.0</td>\n",
       "      <td>37.775745</td>\n",
       "      <td>-122.213037</td>\n",
       "      <td>Foothill Blvd at 42nd Ave</td>\n",
       "      <td>2019-01-31 17:57:44.6130</td>\n",
       "      <td>Subscriber</td>\n",
       "    </tr>\n",
       "    <tr>\n",
       "      <td>1</td>\n",
       "      <td>5506</td>\n",
       "      <td>No</td>\n",
       "      <td>65900</td>\n",
       "      <td>134.0</td>\n",
       "      <td>37.752428</td>\n",
       "      <td>-122.420628</td>\n",
       "      <td>Valencia St at 24th St</td>\n",
       "      <td>2019-02-01 15:16:54.1730</td>\n",
       "      <td>NaN</td>\n",
       "      <td>4.0</td>\n",
       "      <td>37.785881</td>\n",
       "      <td>-122.408915</td>\n",
       "      <td>Cyril Magnin St at Ellis St</td>\n",
       "      <td>2019-01-31 20:58:33.8860</td>\n",
       "      <td>Subscriber</td>\n",
       "    </tr>\n",
       "    <tr>\n",
       "      <td>2</td>\n",
       "      <td>2717</td>\n",
       "      <td>No</td>\n",
       "      <td>62633</td>\n",
       "      <td>157.0</td>\n",
       "      <td>37.846784</td>\n",
       "      <td>-122.291376</td>\n",
       "      <td>65th St at Hollis St</td>\n",
       "      <td>2019-02-01 11:30:46.5300</td>\n",
       "      <td>NaN</td>\n",
       "      <td>245.0</td>\n",
       "      <td>37.870139</td>\n",
       "      <td>-122.268422</td>\n",
       "      <td>Downtown Berkeley BART</td>\n",
       "      <td>2019-01-31 18:06:52.9240</td>\n",
       "      <td>Customer</td>\n",
       "    </tr>\n",
       "    <tr>\n",
       "      <td>3</td>\n",
       "      <td>4557</td>\n",
       "      <td>No</td>\n",
       "      <td>44680</td>\n",
       "      <td>53.0</td>\n",
       "      <td>37.775946</td>\n",
       "      <td>-122.437777</td>\n",
       "      <td>Grove St at Divisadero</td>\n",
       "      <td>2019-02-01 08:10:50.3180</td>\n",
       "      <td>NaN</td>\n",
       "      <td>85.0</td>\n",
       "      <td>37.770083</td>\n",
       "      <td>-122.429156</td>\n",
       "      <td>Church St at Duboce Ave</td>\n",
       "      <td>2019-01-31 19:46:09.7190</td>\n",
       "      <td>Customer</td>\n",
       "    </tr>\n",
       "    <tr>\n",
       "      <td>4</td>\n",
       "      <td>2100</td>\n",
       "      <td>No</td>\n",
       "      <td>60709</td>\n",
       "      <td>28.0</td>\n",
       "      <td>37.787168</td>\n",
       "      <td>-122.388098</td>\n",
       "      <td>The Embarcadero at Bryant St</td>\n",
       "      <td>2019-02-01 07:10:51.0650</td>\n",
       "      <td>NaN</td>\n",
       "      <td>16.0</td>\n",
       "      <td>37.794130</td>\n",
       "      <td>-122.394430</td>\n",
       "      <td>Steuart St at Market St</td>\n",
       "      <td>2019-01-31 14:19:01.5410</td>\n",
       "      <td>Customer</td>\n",
       "    </tr>\n",
       "  </tbody>\n",
       "</table>\n",
       "</div>"
      ],
      "text/plain": [
       "   bike_id bike_share_for_all_trip  duration_sec  end_station_id  \\\n",
       "0     4861                      No         80825           196.0   \n",
       "1     5506                      No         65900           134.0   \n",
       "2     2717                      No         62633           157.0   \n",
       "3     4557                      No         44680            53.0   \n",
       "4     2100                      No         60709            28.0   \n",
       "\n",
       "   end_station_latitude  end_station_longitude              end_station_name  \\\n",
       "0             37.808894            -122.256460       Grand Ave at Perkins St   \n",
       "1             37.752428            -122.420628        Valencia St at 24th St   \n",
       "2             37.846784            -122.291376          65th St at Hollis St   \n",
       "3             37.775946            -122.437777        Grove St at Divisadero   \n",
       "4             37.787168            -122.388098  The Embarcadero at Bryant St   \n",
       "\n",
       "                   end_time rental_access_method  start_station_id  \\\n",
       "0  2019-02-01 16:24:49.8640                  NaN             229.0   \n",
       "1  2019-02-01 15:16:54.1730                  NaN               4.0   \n",
       "2  2019-02-01 11:30:46.5300                  NaN             245.0   \n",
       "3  2019-02-01 08:10:50.3180                  NaN              85.0   \n",
       "4  2019-02-01 07:10:51.0650                  NaN              16.0   \n",
       "\n",
       "   start_station_latitude  start_station_longitude  \\\n",
       "0               37.775745              -122.213037   \n",
       "1               37.785881              -122.408915   \n",
       "2               37.870139              -122.268422   \n",
       "3               37.770083              -122.429156   \n",
       "4               37.794130              -122.394430   \n",
       "\n",
       "            start_station_name                start_time   user_type  \n",
       "0    Foothill Blvd at 42nd Ave  2019-01-31 17:57:44.6130  Subscriber  \n",
       "1  Cyril Magnin St at Ellis St  2019-01-31 20:58:33.8860  Subscriber  \n",
       "2       Downtown Berkeley BART  2019-01-31 18:06:52.9240    Customer  \n",
       "3      Church St at Duboce Ave  2019-01-31 19:46:09.7190    Customer  \n",
       "4      Steuart St at Market St  2019-01-31 14:19:01.5410    Customer  "
      ]
     },
     "execution_count": 6,
     "metadata": {},
     "output_type": "execute_result"
    }
   ],
   "source": [
    "#display the first five rows in the whole dataset\n",
    "df.head(5)"
   ]
  },
  {
   "cell_type": "code",
   "execution_count": 7,
   "metadata": {},
   "outputs": [],
   "source": [
    "# save data in one file \n",
    "df.to_csv('ford_gobike_system_2019',index=False)"
   ]
  },
  {
   "cell_type": "markdown",
   "metadata": {},
   "source": [
    "## Assessing Data"
   ]
  },
  {
   "cell_type": "code",
   "execution_count": 8,
   "metadata": {},
   "outputs": [
    {
     "name": "stdout",
     "output_type": "stream",
     "text": [
      "<class 'pandas.core.frame.DataFrame'>\n",
      "RangeIndex: 2479302 entries, 0 to 2479301\n",
      "Data columns (total 15 columns):\n",
      "bike_id                    int64\n",
      "bike_share_for_all_trip    object\n",
      "duration_sec               int64\n",
      "end_station_id             float64\n",
      "end_station_latitude       float64\n",
      "end_station_longitude      float64\n",
      "end_station_name           object\n",
      "end_time                   object\n",
      "rental_access_method       object\n",
      "start_station_id           float64\n",
      "start_station_latitude     float64\n",
      "start_station_longitude    float64\n",
      "start_station_name         object\n",
      "start_time                 object\n",
      "user_type                  object\n",
      "dtypes: float64(6), int64(2), object(7)\n",
      "memory usage: 283.7+ MB\n"
     ]
    }
   ],
   "source": [
    "df.info()"
   ]
  },
  {
   "cell_type": "code",
   "execution_count": 9,
   "metadata": {},
   "outputs": [
    {
     "data": {
      "text/plain": [
       "bike_id                          0\n",
       "bike_share_for_all_trip      93157\n",
       "duration_sec                     0\n",
       "end_station_id               61555\n",
       "end_station_latitude             0\n",
       "end_station_longitude            0\n",
       "end_station_name             61005\n",
       "end_time                         0\n",
       "rental_access_method       2386145\n",
       "start_station_id             59715\n",
       "start_station_latitude           0\n",
       "start_station_longitude          0\n",
       "start_station_name           59118\n",
       "start_time                       0\n",
       "user_type                        0\n",
       "dtype: int64"
      ]
     },
     "execution_count": 9,
     "metadata": {},
     "output_type": "execute_result"
    }
   ],
   "source": [
    "# find missing data\n",
    "df.isnull().sum()"
   ]
  },
  {
   "cell_type": "code",
   "execution_count": 10,
   "metadata": {},
   "outputs": [
    {
     "data": {
      "text/html": [
       "<div>\n",
       "<style scoped>\n",
       "    .dataframe tbody tr th:only-of-type {\n",
       "        vertical-align: middle;\n",
       "    }\n",
       "\n",
       "    .dataframe tbody tr th {\n",
       "        vertical-align: top;\n",
       "    }\n",
       "\n",
       "    .dataframe thead th {\n",
       "        text-align: right;\n",
       "    }\n",
       "</style>\n",
       "<table border=\"1\" class=\"dataframe\">\n",
       "  <thead>\n",
       "    <tr style=\"text-align: right;\">\n",
       "      <th></th>\n",
       "      <th>bike_id</th>\n",
       "      <th>duration_sec</th>\n",
       "      <th>end_station_id</th>\n",
       "      <th>end_station_latitude</th>\n",
       "      <th>end_station_longitude</th>\n",
       "      <th>start_station_id</th>\n",
       "      <th>start_station_latitude</th>\n",
       "      <th>start_station_longitude</th>\n",
       "    </tr>\n",
       "  </thead>\n",
       "  <tbody>\n",
       "    <tr>\n",
       "      <td>count</td>\n",
       "      <td>2.479302e+06</td>\n",
       "      <td>2.479302e+06</td>\n",
       "      <td>2.417747e+06</td>\n",
       "      <td>2.479302e+06</td>\n",
       "      <td>2.479302e+06</td>\n",
       "      <td>2.419587e+06</td>\n",
       "      <td>2.479302e+06</td>\n",
       "      <td>2.479302e+06</td>\n",
       "    </tr>\n",
       "    <tr>\n",
       "      <td>mean</td>\n",
       "      <td>2.266704e+04</td>\n",
       "      <td>8.076054e+02</td>\n",
       "      <td>1.424983e+02</td>\n",
       "      <td>3.776665e+01</td>\n",
       "      <td>-1.223483e+02</td>\n",
       "      <td>1.462806e+02</td>\n",
       "      <td>3.776748e+01</td>\n",
       "      <td>-1.223522e+02</td>\n",
       "    </tr>\n",
       "    <tr>\n",
       "      <td>std</td>\n",
       "      <td>1.005552e+05</td>\n",
       "      <td>1.895622e+03</td>\n",
       "      <td>1.213026e+02</td>\n",
       "      <td>2.359540e-01</td>\n",
       "      <td>7.025787e-01</td>\n",
       "      <td>1.221827e+02</td>\n",
       "      <td>1.331425e-01</td>\n",
       "      <td>3.086721e-01</td>\n",
       "    </tr>\n",
       "    <tr>\n",
       "      <td>min</td>\n",
       "      <td>4.000000e+00</td>\n",
       "      <td>6.000000e+01</td>\n",
       "      <td>3.000000e+00</td>\n",
       "      <td>0.000000e+00</td>\n",
       "      <td>-1.225143e+02</td>\n",
       "      <td>3.000000e+00</td>\n",
       "      <td>0.000000e+00</td>\n",
       "      <td>-1.225143e+02</td>\n",
       "    </tr>\n",
       "    <tr>\n",
       "      <td>25%</td>\n",
       "      <td>1.921000e+03</td>\n",
       "      <td>3.590000e+02</td>\n",
       "      <td>4.200000e+01</td>\n",
       "      <td>3.777008e+01</td>\n",
       "      <td>-1.224117e+02</td>\n",
       "      <td>4.700000e+01</td>\n",
       "      <td>3.777003e+01</td>\n",
       "      <td>-1.224130e+02</td>\n",
       "    </tr>\n",
       "    <tr>\n",
       "      <td>50%</td>\n",
       "      <td>4.329000e+03</td>\n",
       "      <td>5.710000e+02</td>\n",
       "      <td>1.010000e+02</td>\n",
       "      <td>3.778076e+01</td>\n",
       "      <td>-1.223981e+02</td>\n",
       "      <td>1.040000e+02</td>\n",
       "      <td>3.778053e+01</td>\n",
       "      <td>-1.223984e+02</td>\n",
       "    </tr>\n",
       "    <tr>\n",
       "      <td>75%</td>\n",
       "      <td>9.605000e+03</td>\n",
       "      <td>8.870000e+02</td>\n",
       "      <td>2.390000e+02</td>\n",
       "      <td>3.779625e+01</td>\n",
       "      <td>-1.222948e+02</td>\n",
       "      <td>2.420000e+02</td>\n",
       "      <td>3.779539e+01</td>\n",
       "      <td>-1.222935e+02</td>\n",
       "    </tr>\n",
       "    <tr>\n",
       "      <td>max</td>\n",
       "      <td>9.999370e+05</td>\n",
       "      <td>8.623000e+04</td>\n",
       "      <td>4.980000e+02</td>\n",
       "      <td>4.551000e+01</td>\n",
       "      <td>0.000000e+00</td>\n",
       "      <td>4.980000e+02</td>\n",
       "      <td>4.551000e+01</td>\n",
       "      <td>0.000000e+00</td>\n",
       "    </tr>\n",
       "  </tbody>\n",
       "</table>\n",
       "</div>"
      ],
      "text/plain": [
       "            bike_id  duration_sec  end_station_id  end_station_latitude  \\\n",
       "count  2.479302e+06  2.479302e+06    2.417747e+06          2.479302e+06   \n",
       "mean   2.266704e+04  8.076054e+02    1.424983e+02          3.776665e+01   \n",
       "std    1.005552e+05  1.895622e+03    1.213026e+02          2.359540e-01   \n",
       "min    4.000000e+00  6.000000e+01    3.000000e+00          0.000000e+00   \n",
       "25%    1.921000e+03  3.590000e+02    4.200000e+01          3.777008e+01   \n",
       "50%    4.329000e+03  5.710000e+02    1.010000e+02          3.778076e+01   \n",
       "75%    9.605000e+03  8.870000e+02    2.390000e+02          3.779625e+01   \n",
       "max    9.999370e+05  8.623000e+04    4.980000e+02          4.551000e+01   \n",
       "\n",
       "       end_station_longitude  start_station_id  start_station_latitude  \\\n",
       "count           2.479302e+06      2.419587e+06            2.479302e+06   \n",
       "mean           -1.223483e+02      1.462806e+02            3.776748e+01   \n",
       "std             7.025787e-01      1.221827e+02            1.331425e-01   \n",
       "min            -1.225143e+02      3.000000e+00            0.000000e+00   \n",
       "25%            -1.224117e+02      4.700000e+01            3.777003e+01   \n",
       "50%            -1.223981e+02      1.040000e+02            3.778053e+01   \n",
       "75%            -1.222948e+02      2.420000e+02            3.779539e+01   \n",
       "max             0.000000e+00      4.980000e+02            4.551000e+01   \n",
       "\n",
       "       start_station_longitude  \n",
       "count             2.479302e+06  \n",
       "mean             -1.223522e+02  \n",
       "std               3.086721e-01  \n",
       "min              -1.225143e+02  \n",
       "25%              -1.224130e+02  \n",
       "50%              -1.223984e+02  \n",
       "75%              -1.222935e+02  \n",
       "max               0.000000e+00  "
      ]
     },
     "execution_count": 10,
     "metadata": {},
     "output_type": "execute_result"
    }
   ],
   "source": [
    "df.describe()"
   ]
  },
  {
   "cell_type": "code",
   "execution_count": 11,
   "metadata": {},
   "outputs": [
    {
     "data": {
      "text/plain": [
       "0"
      ]
     },
     "execution_count": 11,
     "metadata": {},
     "output_type": "execute_result"
    }
   ],
   "source": [
    "#find duplicated rows\n",
    "df.duplicated().sum()"
   ]
  },
  {
   "cell_type": "markdown",
   "metadata": {},
   "source": [
    "### Quality issue\n",
    "- `wrong datatype`(bike_share_for_all_trip,end_station_id,end_time,start_station_id,start_time and user_type columns)\n",
    "- `missing data` in bike_share_for_all_trip ,end_station_id,end_station_name,rental_access_method,start_station_id and start_station_name columns\n",
    "- `30 incorrect values `in duration_sec column\n",
    "- convert duration time from seconds to minutes and rename it duration_minuit\n",
    "- bike_share_for_all_trip and rental_access method columns are not important so it is better to remove them\n",
    "- inaccurate values in start_time and end time_time columns( start_time takes a place after end_time or they interchanges) \n",
    "- negative values in duration_minute column"
   ]
  },
  {
   "cell_type": "markdown",
   "metadata": {},
   "source": [
    "## Cleaning data"
   ]
  },
  {
   "cell_type": "markdown",
   "metadata": {},
   "source": [
    "#### Define \n",
    "- convert datatype of bike_share_for_all_trip and user_type from string to category. \n",
    "- convert data type of end_station_id and start_station_id from float to int.\n",
    "- convert data type of start_time and end_time from string to datetime."
   ]
  },
  {
   "cell_type": "markdown",
   "metadata": {},
   "source": [
    "#### Code"
   ]
  },
  {
   "cell_type": "code",
   "execution_count": 12,
   "metadata": {},
   "outputs": [],
   "source": [
    "#convert datatype of bike_share_for_all_trip and user_type from string to category. \n",
    "df['bike_share_for_all_trip']=df['bike_share_for_all_trip'].astype('category')\n",
    "df['user_type']=df['user_type'].astype('category')"
   ]
  },
  {
   "cell_type": "code",
   "execution_count": 13,
   "metadata": {},
   "outputs": [],
   "source": [
    "# convert data type of end_station_id and start_station_id from float to int.\n",
    "# fill null with -1 \n",
    "df['end_station_id']=df['end_station_id'].fillna(-1).astype('int')\n",
    "df['start_station_id']=df['start_station_id'].fillna(-1).astype('int')"
   ]
  },
  {
   "cell_type": "code",
   "execution_count": 14,
   "metadata": {},
   "outputs": [],
   "source": [
    "#convert data type of start_time and end_time from string to datetime.\n",
    "df['start_time']=pd.to_datetime(df['start_time'],format='%Y-%m-%d %H:%M:%S.%f')\n",
    "df['end_time']=pd.to_datetime(df['end_time'],format='%Y-%m-%d %H:%M:%S.%f')"
   ]
  },
  {
   "cell_type": "markdown",
   "metadata": {},
   "source": [
    "#### test"
   ]
  },
  {
   "cell_type": "code",
   "execution_count": 15,
   "metadata": {},
   "outputs": [
    {
     "name": "stdout",
     "output_type": "stream",
     "text": [
      "<class 'pandas.core.frame.DataFrame'>\n",
      "RangeIndex: 2479302 entries, 0 to 2479301\n",
      "Data columns (total 15 columns):\n",
      "bike_id                    int64\n",
      "bike_share_for_all_trip    category\n",
      "duration_sec               int64\n",
      "end_station_id             int32\n",
      "end_station_latitude       float64\n",
      "end_station_longitude      float64\n",
      "end_station_name           object\n",
      "end_time                   datetime64[ns]\n",
      "rental_access_method       object\n",
      "start_station_id           int32\n",
      "start_station_latitude     float64\n",
      "start_station_longitude    float64\n",
      "start_station_name         object\n",
      "start_time                 datetime64[ns]\n",
      "user_type                  category\n",
      "dtypes: category(2), datetime64[ns](2), float64(4), int32(2), int64(2), object(3)\n",
      "memory usage: 231.7+ MB\n"
     ]
    }
   ],
   "source": [
    "df.info()"
   ]
  },
  {
   "cell_type": "code",
   "execution_count": 16,
   "metadata": {},
   "outputs": [],
   "source": [
    "#calculate duration from start time to end time\n",
    "df['diff_time']=df['end_time'] - df['start_time']\n",
    "df['diff_time']=df['diff_time']/np.timedelta64(1,'s')"
   ]
  },
  {
   "cell_type": "code",
   "execution_count": 17,
   "metadata": {},
   "outputs": [
    {
     "name": "stdout",
     "output_type": "stream",
     "text": [
      "30\n"
     ]
    },
    {
     "data": {
      "text/html": [
       "<div>\n",
       "<style scoped>\n",
       "    .dataframe tbody tr th:only-of-type {\n",
       "        vertical-align: middle;\n",
       "    }\n",
       "\n",
       "    .dataframe tbody tr th {\n",
       "        vertical-align: top;\n",
       "    }\n",
       "\n",
       "    .dataframe thead th {\n",
       "        text-align: right;\n",
       "    }\n",
       "</style>\n",
       "<table border=\"1\" class=\"dataframe\">\n",
       "  <thead>\n",
       "    <tr style=\"text-align: right;\">\n",
       "      <th></th>\n",
       "      <th>bike_id</th>\n",
       "      <th>bike_share_for_all_trip</th>\n",
       "      <th>duration_sec</th>\n",
       "      <th>end_station_id</th>\n",
       "      <th>end_station_latitude</th>\n",
       "      <th>end_station_longitude</th>\n",
       "      <th>end_station_name</th>\n",
       "      <th>end_time</th>\n",
       "      <th>rental_access_method</th>\n",
       "      <th>start_station_id</th>\n",
       "      <th>start_station_latitude</th>\n",
       "      <th>start_station_longitude</th>\n",
       "      <th>start_station_name</th>\n",
       "      <th>start_time</th>\n",
       "      <th>user_type</th>\n",
       "      <th>diff_time</th>\n",
       "    </tr>\n",
       "  </thead>\n",
       "  <tbody>\n",
       "    <tr>\n",
       "      <td>567839</td>\n",
       "      <td>6576</td>\n",
       "      <td>No</td>\n",
       "      <td>78403</td>\n",
       "      <td>21</td>\n",
       "      <td>37.789625</td>\n",
       "      <td>-122.400811</td>\n",
       "      <td>Montgomery St BART Station (Market St at 2nd St)</td>\n",
       "      <td>2019-03-10 12:48:21.535</td>\n",
       "      <td>NaN</td>\n",
       "      <td>44</td>\n",
       "      <td>37.781074</td>\n",
       "      <td>-122.411738</td>\n",
       "      <td>Civic Center/UN Plaza BART Station (Market St ...</td>\n",
       "      <td>2019-03-09 14:01:37.602</td>\n",
       "      <td>Customer</td>\n",
       "      <td>82003.933</td>\n",
       "    </tr>\n",
       "    <tr>\n",
       "      <td>567898</td>\n",
       "      <td>5223</td>\n",
       "      <td>No</td>\n",
       "      <td>38028</td>\n",
       "      <td>4</td>\n",
       "      <td>37.785881</td>\n",
       "      <td>-122.408915</td>\n",
       "      <td>Cyril Magnin St at Ellis St</td>\n",
       "      <td>2019-03-10 12:40:39.498</td>\n",
       "      <td>NaN</td>\n",
       "      <td>31</td>\n",
       "      <td>37.783813</td>\n",
       "      <td>-122.434559</td>\n",
       "      <td>Raymond Kimbell Playground</td>\n",
       "      <td>2019-03-10 01:06:50.626</td>\n",
       "      <td>Subscriber</td>\n",
       "      <td>41628.872</td>\n",
       "    </tr>\n",
       "    <tr>\n",
       "      <td>568012</td>\n",
       "      <td>6327</td>\n",
       "      <td>No</td>\n",
       "      <td>65865</td>\n",
       "      <td>371</td>\n",
       "      <td>37.802746</td>\n",
       "      <td>-122.413579</td>\n",
       "      <td>Lombard St at Columbus Ave</td>\n",
       "      <td>2019-03-10 12:20:04.356</td>\n",
       "      <td>NaN</td>\n",
       "      <td>323</td>\n",
       "      <td>37.798014</td>\n",
       "      <td>-122.405950</td>\n",
       "      <td>Broadway at Kearny</td>\n",
       "      <td>2019-03-09 17:02:18.785</td>\n",
       "      <td>Customer</td>\n",
       "      <td>69465.571</td>\n",
       "    </tr>\n",
       "    <tr>\n",
       "      <td>568505</td>\n",
       "      <td>6545</td>\n",
       "      <td>No</td>\n",
       "      <td>38707</td>\n",
       "      <td>398</td>\n",
       "      <td>37.796471</td>\n",
       "      <td>-122.416858</td>\n",
       "      <td>Leavenworth St at Broadway</td>\n",
       "      <td>2019-03-10 10:40:55.916</td>\n",
       "      <td>NaN</td>\n",
       "      <td>124</td>\n",
       "      <td>37.760447</td>\n",
       "      <td>-122.410807</td>\n",
       "      <td>19th St at Florida St</td>\n",
       "      <td>2019-03-09 22:55:48.837</td>\n",
       "      <td>Customer</td>\n",
       "      <td>42307.079</td>\n",
       "    </tr>\n",
       "    <tr>\n",
       "      <td>568509</td>\n",
       "      <td>4043</td>\n",
       "      <td>Yes</td>\n",
       "      <td>39505</td>\n",
       "      <td>310</td>\n",
       "      <td>37.335885</td>\n",
       "      <td>-121.885660</td>\n",
       "      <td>San Fernando St at 4th St</td>\n",
       "      <td>2019-03-10 10:39:41.682</td>\n",
       "      <td>NaN</td>\n",
       "      <td>341</td>\n",
       "      <td>37.336188</td>\n",
       "      <td>-121.889277</td>\n",
       "      <td>Fountain Alley at S 2nd St</td>\n",
       "      <td>2019-03-09 22:41:16.199</td>\n",
       "      <td>Subscriber</td>\n",
       "      <td>43105.483</td>\n",
       "    </tr>\n",
       "    <tr>\n",
       "      <td>568630</td>\n",
       "      <td>4779</td>\n",
       "      <td>No</td>\n",
       "      <td>70009</td>\n",
       "      <td>267</td>\n",
       "      <td>37.861804</td>\n",
       "      <td>-122.253569</td>\n",
       "      <td>Derby St at College Ave</td>\n",
       "      <td>2019-03-10 10:12:52.592</td>\n",
       "      <td>NaN</td>\n",
       "      <td>167</td>\n",
       "      <td>37.848152</td>\n",
       "      <td>-122.252160</td>\n",
       "      <td>College Ave at Harwood Ave</td>\n",
       "      <td>2019-03-09 13:46:02.607</td>\n",
       "      <td>Customer</td>\n",
       "      <td>73609.985</td>\n",
       "    </tr>\n",
       "    <tr>\n",
       "      <td>568701</td>\n",
       "      <td>3147</td>\n",
       "      <td>No</td>\n",
       "      <td>41986</td>\n",
       "      <td>73</td>\n",
       "      <td>37.771793</td>\n",
       "      <td>-122.433708</td>\n",
       "      <td>Pierce St at Haight St</td>\n",
       "      <td>2019-03-10 09:46:03.719</td>\n",
       "      <td>NaN</td>\n",
       "      <td>98</td>\n",
       "      <td>37.765052</td>\n",
       "      <td>-122.421866</td>\n",
       "      <td>Valencia St at 16th St</td>\n",
       "      <td>2019-03-09 21:06:17.455</td>\n",
       "      <td>Customer</td>\n",
       "      <td>45586.264</td>\n",
       "    </tr>\n",
       "    <tr>\n",
       "      <td>568943</td>\n",
       "      <td>6283</td>\n",
       "      <td>No</td>\n",
       "      <td>847</td>\n",
       "      <td>125</td>\n",
       "      <td>37.759200</td>\n",
       "      <td>-122.409851</td>\n",
       "      <td>20th St at Bryant St</td>\n",
       "      <td>2019-03-10 03:11:59.178</td>\n",
       "      <td>NaN</td>\n",
       "      <td>369</td>\n",
       "      <td>37.787349</td>\n",
       "      <td>-122.416651</td>\n",
       "      <td>Hyde St at Post St</td>\n",
       "      <td>2019-03-10 01:57:52.064</td>\n",
       "      <td>Subscriber</td>\n",
       "      <td>4447.114</td>\n",
       "    </tr>\n",
       "    <tr>\n",
       "      <td>568946</td>\n",
       "      <td>5903</td>\n",
       "      <td>Yes</td>\n",
       "      <td>6288</td>\n",
       "      <td>324</td>\n",
       "      <td>37.788300</td>\n",
       "      <td>-122.408531</td>\n",
       "      <td>Union Square (Powell St at Post St)</td>\n",
       "      <td>2019-03-10 03:09:26.873</td>\n",
       "      <td>NaN</td>\n",
       "      <td>368</td>\n",
       "      <td>37.785434</td>\n",
       "      <td>-122.419622</td>\n",
       "      <td>Myrtle St at Polk St</td>\n",
       "      <td>2019-03-10 00:24:38.275</td>\n",
       "      <td>Subscriber</td>\n",
       "      <td>9888.598</td>\n",
       "    </tr>\n",
       "    <tr>\n",
       "      <td>568949</td>\n",
       "      <td>4837</td>\n",
       "      <td>No</td>\n",
       "      <td>908</td>\n",
       "      <td>352</td>\n",
       "      <td>37.726943</td>\n",
       "      <td>-122.406600</td>\n",
       "      <td>Goettingen St at Bacon St</td>\n",
       "      <td>2019-03-10 03:07:12.641</td>\n",
       "      <td>NaN</td>\n",
       "      <td>129</td>\n",
       "      <td>37.758862</td>\n",
       "      <td>-122.412544</td>\n",
       "      <td>Harrison St at 20th St</td>\n",
       "      <td>2019-03-10 01:52:04.007</td>\n",
       "      <td>Subscriber</td>\n",
       "      <td>4508.634</td>\n",
       "    </tr>\n",
       "    <tr>\n",
       "      <td>568952</td>\n",
       "      <td>5039</td>\n",
       "      <td>No</td>\n",
       "      <td>765</td>\n",
       "      <td>324</td>\n",
       "      <td>37.788300</td>\n",
       "      <td>-122.408531</td>\n",
       "      <td>Union Square (Powell St at Post St)</td>\n",
       "      <td>2019-03-10 03:02:21.182</td>\n",
       "      <td>NaN</td>\n",
       "      <td>53</td>\n",
       "      <td>37.775946</td>\n",
       "      <td>-122.437777</td>\n",
       "      <td>Grove St at Divisadero</td>\n",
       "      <td>2019-03-10 01:49:35.702</td>\n",
       "      <td>Subscriber</td>\n",
       "      <td>4365.480</td>\n",
       "    </tr>\n",
       "    <tr>\n",
       "      <td>568953</td>\n",
       "      <td>5525</td>\n",
       "      <td>No</td>\n",
       "      <td>592</td>\n",
       "      <td>365</td>\n",
       "      <td>37.780450</td>\n",
       "      <td>-122.431946</td>\n",
       "      <td>Turk St at Fillmore St</td>\n",
       "      <td>2019-03-10 03:01:51.276</td>\n",
       "      <td>NaN</td>\n",
       "      <td>284</td>\n",
       "      <td>37.784872</td>\n",
       "      <td>-122.400876</td>\n",
       "      <td>Yerba Buena Center for the Arts (Howard St at ...</td>\n",
       "      <td>2019-03-10 01:51:58.944</td>\n",
       "      <td>Subscriber</td>\n",
       "      <td>4192.332</td>\n",
       "    </tr>\n",
       "    <tr>\n",
       "      <td>568954</td>\n",
       "      <td>5948</td>\n",
       "      <td>No</td>\n",
       "      <td>215</td>\n",
       "      <td>120</td>\n",
       "      <td>37.761420</td>\n",
       "      <td>-122.426435</td>\n",
       "      <td>Mission Dolores Park</td>\n",
       "      <td>2019-03-10 03:01:18.830</td>\n",
       "      <td>NaN</td>\n",
       "      <td>119</td>\n",
       "      <td>37.761047</td>\n",
       "      <td>-122.432642</td>\n",
       "      <td>18th St at Noe St</td>\n",
       "      <td>2019-03-10 01:57:43.781</td>\n",
       "      <td>Customer</td>\n",
       "      <td>3815.049</td>\n",
       "    </tr>\n",
       "    <tr>\n",
       "      <td>2339592</td>\n",
       "      <td>3597</td>\n",
       "      <td>No</td>\n",
       "      <td>82448</td>\n",
       "      <td>237</td>\n",
       "      <td>37.775232</td>\n",
       "      <td>-122.224498</td>\n",
       "      <td>Fruitvale BART Station</td>\n",
       "      <td>2019-11-03 15:38:47.902</td>\n",
       "      <td>NaN</td>\n",
       "      <td>237</td>\n",
       "      <td>37.775232</td>\n",
       "      <td>-122.224498</td>\n",
       "      <td>Fruitvale BART Station</td>\n",
       "      <td>2019-11-02 17:44:39.097</td>\n",
       "      <td>Customer</td>\n",
       "      <td>78848.805</td>\n",
       "    </tr>\n",
       "    <tr>\n",
       "      <td>2339594</td>\n",
       "      <td>12581</td>\n",
       "      <td>No</td>\n",
       "      <td>82517</td>\n",
       "      <td>237</td>\n",
       "      <td>37.775232</td>\n",
       "      <td>-122.224498</td>\n",
       "      <td>Fruitvale BART Station</td>\n",
       "      <td>2019-11-03 15:38:37.558</td>\n",
       "      <td>NaN</td>\n",
       "      <td>237</td>\n",
       "      <td>37.775232</td>\n",
       "      <td>-122.224498</td>\n",
       "      <td>Fruitvale BART Station</td>\n",
       "      <td>2019-11-02 17:43:19.670</td>\n",
       "      <td>Customer</td>\n",
       "      <td>78917.888</td>\n",
       "    </tr>\n",
       "    <tr>\n",
       "      <td>2341547</td>\n",
       "      <td>12658</td>\n",
       "      <td>No</td>\n",
       "      <td>67384</td>\n",
       "      <td>13</td>\n",
       "      <td>37.794231</td>\n",
       "      <td>-122.402923</td>\n",
       "      <td>Commercial St at Montgomery St</td>\n",
       "      <td>2019-11-03 10:21:59.940</td>\n",
       "      <td>NaN</td>\n",
       "      <td>8</td>\n",
       "      <td>37.799953</td>\n",
       "      <td>-122.398525</td>\n",
       "      <td>The Embarcadero at Vallejo St</td>\n",
       "      <td>2019-11-02 16:38:55.916</td>\n",
       "      <td>Customer</td>\n",
       "      <td>63784.024</td>\n",
       "    </tr>\n",
       "    <tr>\n",
       "      <td>2341729</td>\n",
       "      <td>11279</td>\n",
       "      <td>No</td>\n",
       "      <td>32312</td>\n",
       "      <td>419</td>\n",
       "      <td>37.788197</td>\n",
       "      <td>-122.420373</td>\n",
       "      <td>Fern St at Polk St</td>\n",
       "      <td>2019-11-03 09:46:22.802</td>\n",
       "      <td>NaN</td>\n",
       "      <td>98</td>\n",
       "      <td>37.765052</td>\n",
       "      <td>-122.421866</td>\n",
       "      <td>Valencia St at 16th St</td>\n",
       "      <td>2019-11-03 01:47:50.598</td>\n",
       "      <td>Subscriber</td>\n",
       "      <td>28712.204</td>\n",
       "    </tr>\n",
       "    <tr>\n",
       "      <td>2341757</td>\n",
       "      <td>9906</td>\n",
       "      <td>No</td>\n",
       "      <td>72432</td>\n",
       "      <td>324</td>\n",
       "      <td>37.788300</td>\n",
       "      <td>-122.408531</td>\n",
       "      <td>Union Square (Powell St at Post St)</td>\n",
       "      <td>2019-11-03 09:43:36.348</td>\n",
       "      <td>NaN</td>\n",
       "      <td>324</td>\n",
       "      <td>37.788300</td>\n",
       "      <td>-122.408531</td>\n",
       "      <td>Union Square (Powell St at Post St)</td>\n",
       "      <td>2019-11-02 14:36:23.594</td>\n",
       "      <td>Customer</td>\n",
       "      <td>68832.754</td>\n",
       "    </tr>\n",
       "    <tr>\n",
       "      <td>2342013</td>\n",
       "      <td>10236</td>\n",
       "      <td>No</td>\n",
       "      <td>76499</td>\n",
       "      <td>309</td>\n",
       "      <td>37.337391</td>\n",
       "      <td>-121.886995</td>\n",
       "      <td>San Jose City Hall</td>\n",
       "      <td>2019-11-03 07:39:43.294</td>\n",
       "      <td>NaN</td>\n",
       "      <td>294</td>\n",
       "      <td>37.327581</td>\n",
       "      <td>-121.884559</td>\n",
       "      <td>Pierce Ave at Market St</td>\n",
       "      <td>2019-11-02 11:24:43.974</td>\n",
       "      <td>Customer</td>\n",
       "      <td>72899.320</td>\n",
       "    </tr>\n",
       "    <tr>\n",
       "      <td>2342111</td>\n",
       "      <td>12293</td>\n",
       "      <td>No</td>\n",
       "      <td>1720</td>\n",
       "      <td>356</td>\n",
       "      <td>37.769188</td>\n",
       "      <td>-122.422285</td>\n",
       "      <td>Valencia St at Clinton Park</td>\n",
       "      <td>2019-11-03 01:27:49.671</td>\n",
       "      <td>NaN</td>\n",
       "      <td>284</td>\n",
       "      <td>37.784872</td>\n",
       "      <td>-122.400876</td>\n",
       "      <td>Yerba Buena Center for the Arts (Howard St at ...</td>\n",
       "      <td>2019-11-03 01:59:09.303</td>\n",
       "      <td>Customer</td>\n",
       "      <td>-1879.632</td>\n",
       "    </tr>\n",
       "    <tr>\n",
       "      <td>2342126</td>\n",
       "      <td>10968</td>\n",
       "      <td>No</td>\n",
       "      <td>1121</td>\n",
       "      <td>300</td>\n",
       "      <td>37.317298</td>\n",
       "      <td>-121.884995</td>\n",
       "      <td>Palm St at Willow St</td>\n",
       "      <td>2019-11-03 01:18:19.034</td>\n",
       "      <td>NaN</td>\n",
       "      <td>294</td>\n",
       "      <td>37.327581</td>\n",
       "      <td>-121.884559</td>\n",
       "      <td>Pierce Ave at Market St</td>\n",
       "      <td>2019-11-03 01:59:37.722</td>\n",
       "      <td>Customer</td>\n",
       "      <td>-2478.688</td>\n",
       "    </tr>\n",
       "    <tr>\n",
       "      <td>2342134</td>\n",
       "      <td>9973</td>\n",
       "      <td>No</td>\n",
       "      <td>643</td>\n",
       "      <td>130</td>\n",
       "      <td>37.757704</td>\n",
       "      <td>-122.391885</td>\n",
       "      <td>22nd St Caltrain Station</td>\n",
       "      <td>2019-11-03 01:09:56.715</td>\n",
       "      <td>NaN</td>\n",
       "      <td>139</td>\n",
       "      <td>37.751017</td>\n",
       "      <td>-122.411901</td>\n",
       "      <td>Garfield Square (25th St at Harrison St)</td>\n",
       "      <td>2019-11-03 01:59:13.155</td>\n",
       "      <td>Customer</td>\n",
       "      <td>-2956.440</td>\n",
       "    </tr>\n",
       "    <tr>\n",
       "      <td>2342136</td>\n",
       "      <td>10449</td>\n",
       "      <td>No</td>\n",
       "      <td>955</td>\n",
       "      <td>321</td>\n",
       "      <td>37.780645</td>\n",
       "      <td>-122.402866</td>\n",
       "      <td>Folsom St at 5th St</td>\n",
       "      <td>2019-11-03 01:05:57.713</td>\n",
       "      <td>NaN</td>\n",
       "      <td>98</td>\n",
       "      <td>37.765052</td>\n",
       "      <td>-122.421866</td>\n",
       "      <td>Valencia St at 16th St</td>\n",
       "      <td>2019-11-03 01:50:02.261</td>\n",
       "      <td>Customer</td>\n",
       "      <td>-2644.548</td>\n",
       "    </tr>\n",
       "    <tr>\n",
       "      <td>2342137</td>\n",
       "      <td>798</td>\n",
       "      <td>No</td>\n",
       "      <td>967</td>\n",
       "      <td>321</td>\n",
       "      <td>37.780645</td>\n",
       "      <td>-122.402866</td>\n",
       "      <td>Folsom St at 5th St</td>\n",
       "      <td>2019-11-03 01:05:50.979</td>\n",
       "      <td>NaN</td>\n",
       "      <td>98</td>\n",
       "      <td>37.765052</td>\n",
       "      <td>-122.421866</td>\n",
       "      <td>Valencia St at 16th St</td>\n",
       "      <td>2019-11-03 01:49:43.895</td>\n",
       "      <td>Customer</td>\n",
       "      <td>-2632.916</td>\n",
       "    </tr>\n",
       "    <tr>\n",
       "      <td>2342139</td>\n",
       "      <td>2359</td>\n",
       "      <td>No</td>\n",
       "      <td>509</td>\n",
       "      <td>4</td>\n",
       "      <td>37.785881</td>\n",
       "      <td>-122.408915</td>\n",
       "      <td>Cyril Magnin St at Ellis St</td>\n",
       "      <td>2019-11-03 01:04:54.536</td>\n",
       "      <td>NaN</td>\n",
       "      <td>60</td>\n",
       "      <td>37.774520</td>\n",
       "      <td>-122.409449</td>\n",
       "      <td>8th St at Ringold St</td>\n",
       "      <td>2019-11-03 01:56:25.083</td>\n",
       "      <td>Customer</td>\n",
       "      <td>-3090.547</td>\n",
       "    </tr>\n",
       "    <tr>\n",
       "      <td>2342140</td>\n",
       "      <td>11536</td>\n",
       "      <td>Yes</td>\n",
       "      <td>629</td>\n",
       "      <td>349</td>\n",
       "      <td>37.781010</td>\n",
       "      <td>-122.405666</td>\n",
       "      <td>Howard St at Mary St</td>\n",
       "      <td>2019-11-03 01:04:08.087</td>\n",
       "      <td>NaN</td>\n",
       "      <td>33</td>\n",
       "      <td>37.781650</td>\n",
       "      <td>-122.415408</td>\n",
       "      <td>Golden Gate Ave at Hyde St</td>\n",
       "      <td>2019-11-03 01:53:38.578</td>\n",
       "      <td>Subscriber</td>\n",
       "      <td>-2970.491</td>\n",
       "    </tr>\n",
       "    <tr>\n",
       "      <td>2342141</td>\n",
       "      <td>737</td>\n",
       "      <td>No</td>\n",
       "      <td>604</td>\n",
       "      <td>95</td>\n",
       "      <td>37.766219</td>\n",
       "      <td>-122.431060</td>\n",
       "      <td>Sanchez St at 15th St</td>\n",
       "      <td>2019-11-03 01:03:18.677</td>\n",
       "      <td>NaN</td>\n",
       "      <td>43</td>\n",
       "      <td>37.778768</td>\n",
       "      <td>-122.415929</td>\n",
       "      <td>San Francisco Public Library (Grove St at Hyde...</td>\n",
       "      <td>2019-11-03 01:53:14.617</td>\n",
       "      <td>Customer</td>\n",
       "      <td>-2995.940</td>\n",
       "    </tr>\n",
       "    <tr>\n",
       "      <td>2342142</td>\n",
       "      <td>10832</td>\n",
       "      <td>No</td>\n",
       "      <td>652</td>\n",
       "      <td>95</td>\n",
       "      <td>37.766219</td>\n",
       "      <td>-122.431060</td>\n",
       "      <td>Sanchez St at 15th St</td>\n",
       "      <td>2019-11-03 01:03:17.964</td>\n",
       "      <td>NaN</td>\n",
       "      <td>43</td>\n",
       "      <td>37.778768</td>\n",
       "      <td>-122.415929</td>\n",
       "      <td>San Francisco Public Library (Grove St at Hyde...</td>\n",
       "      <td>2019-11-03 01:52:25.884</td>\n",
       "      <td>Subscriber</td>\n",
       "      <td>-2947.920</td>\n",
       "    </tr>\n",
       "    <tr>\n",
       "      <td>2342143</td>\n",
       "      <td>2401</td>\n",
       "      <td>No</td>\n",
       "      <td>414</td>\n",
       "      <td>125</td>\n",
       "      <td>37.759200</td>\n",
       "      <td>-122.409851</td>\n",
       "      <td>20th St at Bryant St</td>\n",
       "      <td>2019-11-03 01:02:30.447</td>\n",
       "      <td>NaN</td>\n",
       "      <td>109</td>\n",
       "      <td>37.763316</td>\n",
       "      <td>-122.421904</td>\n",
       "      <td>17th St at Valencia St</td>\n",
       "      <td>2019-11-03 01:55:36.152</td>\n",
       "      <td>Subscriber</td>\n",
       "      <td>-3185.705</td>\n",
       "    </tr>\n",
       "    <tr>\n",
       "      <td>2342144</td>\n",
       "      <td>1885</td>\n",
       "      <td>No</td>\n",
       "      <td>410</td>\n",
       "      <td>125</td>\n",
       "      <td>37.759200</td>\n",
       "      <td>-122.409851</td>\n",
       "      <td>20th St at Bryant St</td>\n",
       "      <td>2019-11-03 01:02:28.758</td>\n",
       "      <td>NaN</td>\n",
       "      <td>109</td>\n",
       "      <td>37.763316</td>\n",
       "      <td>-122.421904</td>\n",
       "      <td>17th St at Valencia St</td>\n",
       "      <td>2019-11-03 01:55:37.905</td>\n",
       "      <td>Subscriber</td>\n",
       "      <td>-3189.147</td>\n",
       "    </tr>\n",
       "  </tbody>\n",
       "</table>\n",
       "</div>"
      ],
      "text/plain": [
       "         bike_id bike_share_for_all_trip  duration_sec  end_station_id  \\\n",
       "567839      6576                      No         78403              21   \n",
       "567898      5223                      No         38028               4   \n",
       "568012      6327                      No         65865             371   \n",
       "568505      6545                      No         38707             398   \n",
       "568509      4043                     Yes         39505             310   \n",
       "568630      4779                      No         70009             267   \n",
       "568701      3147                      No         41986              73   \n",
       "568943      6283                      No           847             125   \n",
       "568946      5903                     Yes          6288             324   \n",
       "568949      4837                      No           908             352   \n",
       "568952      5039                      No           765             324   \n",
       "568953      5525                      No           592             365   \n",
       "568954      5948                      No           215             120   \n",
       "2339592     3597                      No         82448             237   \n",
       "2339594    12581                      No         82517             237   \n",
       "2341547    12658                      No         67384              13   \n",
       "2341729    11279                      No         32312             419   \n",
       "2341757     9906                      No         72432             324   \n",
       "2342013    10236                      No         76499             309   \n",
       "2342111    12293                      No          1720             356   \n",
       "2342126    10968                      No          1121             300   \n",
       "2342134     9973                      No           643             130   \n",
       "2342136    10449                      No           955             321   \n",
       "2342137      798                      No           967             321   \n",
       "2342139     2359                      No           509               4   \n",
       "2342140    11536                     Yes           629             349   \n",
       "2342141      737                      No           604              95   \n",
       "2342142    10832                      No           652              95   \n",
       "2342143     2401                      No           414             125   \n",
       "2342144     1885                      No           410             125   \n",
       "\n",
       "         end_station_latitude  end_station_longitude  \\\n",
       "567839              37.789625            -122.400811   \n",
       "567898              37.785881            -122.408915   \n",
       "568012              37.802746            -122.413579   \n",
       "568505              37.796471            -122.416858   \n",
       "568509              37.335885            -121.885660   \n",
       "568630              37.861804            -122.253569   \n",
       "568701              37.771793            -122.433708   \n",
       "568943              37.759200            -122.409851   \n",
       "568946              37.788300            -122.408531   \n",
       "568949              37.726943            -122.406600   \n",
       "568952              37.788300            -122.408531   \n",
       "568953              37.780450            -122.431946   \n",
       "568954              37.761420            -122.426435   \n",
       "2339592             37.775232            -122.224498   \n",
       "2339594             37.775232            -122.224498   \n",
       "2341547             37.794231            -122.402923   \n",
       "2341729             37.788197            -122.420373   \n",
       "2341757             37.788300            -122.408531   \n",
       "2342013             37.337391            -121.886995   \n",
       "2342111             37.769188            -122.422285   \n",
       "2342126             37.317298            -121.884995   \n",
       "2342134             37.757704            -122.391885   \n",
       "2342136             37.780645            -122.402866   \n",
       "2342137             37.780645            -122.402866   \n",
       "2342139             37.785881            -122.408915   \n",
       "2342140             37.781010            -122.405666   \n",
       "2342141             37.766219            -122.431060   \n",
       "2342142             37.766219            -122.431060   \n",
       "2342143             37.759200            -122.409851   \n",
       "2342144             37.759200            -122.409851   \n",
       "\n",
       "                                         end_station_name  \\\n",
       "567839   Montgomery St BART Station (Market St at 2nd St)   \n",
       "567898                        Cyril Magnin St at Ellis St   \n",
       "568012                         Lombard St at Columbus Ave   \n",
       "568505                         Leavenworth St at Broadway   \n",
       "568509                          San Fernando St at 4th St   \n",
       "568630                            Derby St at College Ave   \n",
       "568701                             Pierce St at Haight St   \n",
       "568943                               20th St at Bryant St   \n",
       "568946                Union Square (Powell St at Post St)   \n",
       "568949                          Goettingen St at Bacon St   \n",
       "568952                Union Square (Powell St at Post St)   \n",
       "568953                             Turk St at Fillmore St   \n",
       "568954                               Mission Dolores Park   \n",
       "2339592                            Fruitvale BART Station   \n",
       "2339594                            Fruitvale BART Station   \n",
       "2341547                    Commercial St at Montgomery St   \n",
       "2341729                                Fern St at Polk St   \n",
       "2341757               Union Square (Powell St at Post St)   \n",
       "2342013                                San Jose City Hall   \n",
       "2342111                       Valencia St at Clinton Park   \n",
       "2342126                              Palm St at Willow St   \n",
       "2342134                          22nd St Caltrain Station   \n",
       "2342136                               Folsom St at 5th St   \n",
       "2342137                               Folsom St at 5th St   \n",
       "2342139                       Cyril Magnin St at Ellis St   \n",
       "2342140                              Howard St at Mary St   \n",
       "2342141                             Sanchez St at 15th St   \n",
       "2342142                             Sanchez St at 15th St   \n",
       "2342143                              20th St at Bryant St   \n",
       "2342144                              20th St at Bryant St   \n",
       "\n",
       "                       end_time rental_access_method  start_station_id  \\\n",
       "567839  2019-03-10 12:48:21.535                  NaN                44   \n",
       "567898  2019-03-10 12:40:39.498                  NaN                31   \n",
       "568012  2019-03-10 12:20:04.356                  NaN               323   \n",
       "568505  2019-03-10 10:40:55.916                  NaN               124   \n",
       "568509  2019-03-10 10:39:41.682                  NaN               341   \n",
       "568630  2019-03-10 10:12:52.592                  NaN               167   \n",
       "568701  2019-03-10 09:46:03.719                  NaN                98   \n",
       "568943  2019-03-10 03:11:59.178                  NaN               369   \n",
       "568946  2019-03-10 03:09:26.873                  NaN               368   \n",
       "568949  2019-03-10 03:07:12.641                  NaN               129   \n",
       "568952  2019-03-10 03:02:21.182                  NaN                53   \n",
       "568953  2019-03-10 03:01:51.276                  NaN               284   \n",
       "568954  2019-03-10 03:01:18.830                  NaN               119   \n",
       "2339592 2019-11-03 15:38:47.902                  NaN               237   \n",
       "2339594 2019-11-03 15:38:37.558                  NaN               237   \n",
       "2341547 2019-11-03 10:21:59.940                  NaN                 8   \n",
       "2341729 2019-11-03 09:46:22.802                  NaN                98   \n",
       "2341757 2019-11-03 09:43:36.348                  NaN               324   \n",
       "2342013 2019-11-03 07:39:43.294                  NaN               294   \n",
       "2342111 2019-11-03 01:27:49.671                  NaN               284   \n",
       "2342126 2019-11-03 01:18:19.034                  NaN               294   \n",
       "2342134 2019-11-03 01:09:56.715                  NaN               139   \n",
       "2342136 2019-11-03 01:05:57.713                  NaN                98   \n",
       "2342137 2019-11-03 01:05:50.979                  NaN                98   \n",
       "2342139 2019-11-03 01:04:54.536                  NaN                60   \n",
       "2342140 2019-11-03 01:04:08.087                  NaN                33   \n",
       "2342141 2019-11-03 01:03:18.677                  NaN                43   \n",
       "2342142 2019-11-03 01:03:17.964                  NaN                43   \n",
       "2342143 2019-11-03 01:02:30.447                  NaN               109   \n",
       "2342144 2019-11-03 01:02:28.758                  NaN               109   \n",
       "\n",
       "         start_station_latitude  start_station_longitude  \\\n",
       "567839                37.781074              -122.411738   \n",
       "567898                37.783813              -122.434559   \n",
       "568012                37.798014              -122.405950   \n",
       "568505                37.760447              -122.410807   \n",
       "568509                37.336188              -121.889277   \n",
       "568630                37.848152              -122.252160   \n",
       "568701                37.765052              -122.421866   \n",
       "568943                37.787349              -122.416651   \n",
       "568946                37.785434              -122.419622   \n",
       "568949                37.758862              -122.412544   \n",
       "568952                37.775946              -122.437777   \n",
       "568953                37.784872              -122.400876   \n",
       "568954                37.761047              -122.432642   \n",
       "2339592               37.775232              -122.224498   \n",
       "2339594               37.775232              -122.224498   \n",
       "2341547               37.799953              -122.398525   \n",
       "2341729               37.765052              -122.421866   \n",
       "2341757               37.788300              -122.408531   \n",
       "2342013               37.327581              -121.884559   \n",
       "2342111               37.784872              -122.400876   \n",
       "2342126               37.327581              -121.884559   \n",
       "2342134               37.751017              -122.411901   \n",
       "2342136               37.765052              -122.421866   \n",
       "2342137               37.765052              -122.421866   \n",
       "2342139               37.774520              -122.409449   \n",
       "2342140               37.781650              -122.415408   \n",
       "2342141               37.778768              -122.415929   \n",
       "2342142               37.778768              -122.415929   \n",
       "2342143               37.763316              -122.421904   \n",
       "2342144               37.763316              -122.421904   \n",
       "\n",
       "                                        start_station_name  \\\n",
       "567839   Civic Center/UN Plaza BART Station (Market St ...   \n",
       "567898                          Raymond Kimbell Playground   \n",
       "568012                                  Broadway at Kearny   \n",
       "568505                               19th St at Florida St   \n",
       "568509                          Fountain Alley at S 2nd St   \n",
       "568630                          College Ave at Harwood Ave   \n",
       "568701                              Valencia St at 16th St   \n",
       "568943                                  Hyde St at Post St   \n",
       "568946                                Myrtle St at Polk St   \n",
       "568949                              Harrison St at 20th St   \n",
       "568952                              Grove St at Divisadero   \n",
       "568953   Yerba Buena Center for the Arts (Howard St at ...   \n",
       "568954                                   18th St at Noe St   \n",
       "2339592                             Fruitvale BART Station   \n",
       "2339594                             Fruitvale BART Station   \n",
       "2341547                      The Embarcadero at Vallejo St   \n",
       "2341729                             Valencia St at 16th St   \n",
       "2341757                Union Square (Powell St at Post St)   \n",
       "2342013                            Pierce Ave at Market St   \n",
       "2342111  Yerba Buena Center for the Arts (Howard St at ...   \n",
       "2342126                            Pierce Ave at Market St   \n",
       "2342134           Garfield Square (25th St at Harrison St)   \n",
       "2342136                             Valencia St at 16th St   \n",
       "2342137                             Valencia St at 16th St   \n",
       "2342139                               8th St at Ringold St   \n",
       "2342140                         Golden Gate Ave at Hyde St   \n",
       "2342141  San Francisco Public Library (Grove St at Hyde...   \n",
       "2342142  San Francisco Public Library (Grove St at Hyde...   \n",
       "2342143                             17th St at Valencia St   \n",
       "2342144                             17th St at Valencia St   \n",
       "\n",
       "                     start_time   user_type  diff_time  \n",
       "567839  2019-03-09 14:01:37.602    Customer  82003.933  \n",
       "567898  2019-03-10 01:06:50.626  Subscriber  41628.872  \n",
       "568012  2019-03-09 17:02:18.785    Customer  69465.571  \n",
       "568505  2019-03-09 22:55:48.837    Customer  42307.079  \n",
       "568509  2019-03-09 22:41:16.199  Subscriber  43105.483  \n",
       "568630  2019-03-09 13:46:02.607    Customer  73609.985  \n",
       "568701  2019-03-09 21:06:17.455    Customer  45586.264  \n",
       "568943  2019-03-10 01:57:52.064  Subscriber   4447.114  \n",
       "568946  2019-03-10 00:24:38.275  Subscriber   9888.598  \n",
       "568949  2019-03-10 01:52:04.007  Subscriber   4508.634  \n",
       "568952  2019-03-10 01:49:35.702  Subscriber   4365.480  \n",
       "568953  2019-03-10 01:51:58.944  Subscriber   4192.332  \n",
       "568954  2019-03-10 01:57:43.781    Customer   3815.049  \n",
       "2339592 2019-11-02 17:44:39.097    Customer  78848.805  \n",
       "2339594 2019-11-02 17:43:19.670    Customer  78917.888  \n",
       "2341547 2019-11-02 16:38:55.916    Customer  63784.024  \n",
       "2341729 2019-11-03 01:47:50.598  Subscriber  28712.204  \n",
       "2341757 2019-11-02 14:36:23.594    Customer  68832.754  \n",
       "2342013 2019-11-02 11:24:43.974    Customer  72899.320  \n",
       "2342111 2019-11-03 01:59:09.303    Customer  -1879.632  \n",
       "2342126 2019-11-03 01:59:37.722    Customer  -2478.688  \n",
       "2342134 2019-11-03 01:59:13.155    Customer  -2956.440  \n",
       "2342136 2019-11-03 01:50:02.261    Customer  -2644.548  \n",
       "2342137 2019-11-03 01:49:43.895    Customer  -2632.916  \n",
       "2342139 2019-11-03 01:56:25.083    Customer  -3090.547  \n",
       "2342140 2019-11-03 01:53:38.578  Subscriber  -2970.491  \n",
       "2342141 2019-11-03 01:53:14.617    Customer  -2995.940  \n",
       "2342142 2019-11-03 01:52:25.884  Subscriber  -2947.920  \n",
       "2342143 2019-11-03 01:55:36.152  Subscriber  -3185.705  \n",
       "2342144 2019-11-03 01:55:37.905  Subscriber  -3189.147  "
      ]
     },
     "execution_count": 17,
     "metadata": {},
     "output_type": "execute_result"
    }
   ],
   "source": [
    "# get number of incorrect values in duration_sec column \n",
    "print(len(df.query('duration_sec<diff_time-1 or duration_sec>diff_time+1')))\n",
    "df.query('duration_sec<diff_time-1 or duration_sec>diff_time+1')"
   ]
  },
  {
   "cell_type": "markdown",
   "metadata": {},
   "source": [
    "#### Define \n",
    "30 incorrect values in duration_sec columns"
   ]
  },
  {
   "cell_type": "markdown",
   "metadata": {},
   "source": [
    "#### Code "
   ]
  },
  {
   "cell_type": "code",
   "execution_count": 18,
   "metadata": {},
   "outputs": [],
   "source": [
    "df['duration_sec']=df['diff_time']\n",
    "df.drop(columns='diff_time',inplace=True,axis=1)"
   ]
  },
  {
   "cell_type": "code",
   "execution_count": 19,
   "metadata": {},
   "outputs": [],
   "source": [
    "#convert duaration from second to minute\n",
    "df['duration_sec']=df['duration_sec']/60.0\n",
    "#rename duration_sec\n",
    "df.rename(columns={'duration_sec':'duration_minute'},inplace=True)"
   ]
  },
  {
   "cell_type": "code",
   "execution_count": 20,
   "metadata": {},
   "outputs": [
    {
     "data": {
      "text/html": [
       "<div>\n",
       "<style scoped>\n",
       "    .dataframe tbody tr th:only-of-type {\n",
       "        vertical-align: middle;\n",
       "    }\n",
       "\n",
       "    .dataframe tbody tr th {\n",
       "        vertical-align: top;\n",
       "    }\n",
       "\n",
       "    .dataframe thead th {\n",
       "        text-align: right;\n",
       "    }\n",
       "</style>\n",
       "<table border=\"1\" class=\"dataframe\">\n",
       "  <thead>\n",
       "    <tr style=\"text-align: right;\">\n",
       "      <th></th>\n",
       "      <th>duration_minute</th>\n",
       "      <th>start_time</th>\n",
       "      <th>end_time</th>\n",
       "    </tr>\n",
       "  </thead>\n",
       "  <tbody>\n",
       "    <tr>\n",
       "      <td>2342111</td>\n",
       "      <td>-31.327200</td>\n",
       "      <td>2019-11-03 01:59:09.303</td>\n",
       "      <td>2019-11-03 01:27:49.671</td>\n",
       "    </tr>\n",
       "    <tr>\n",
       "      <td>2342126</td>\n",
       "      <td>-41.311467</td>\n",
       "      <td>2019-11-03 01:59:37.722</td>\n",
       "      <td>2019-11-03 01:18:19.034</td>\n",
       "    </tr>\n",
       "    <tr>\n",
       "      <td>2342134</td>\n",
       "      <td>-49.274000</td>\n",
       "      <td>2019-11-03 01:59:13.155</td>\n",
       "      <td>2019-11-03 01:09:56.715</td>\n",
       "    </tr>\n",
       "    <tr>\n",
       "      <td>2342136</td>\n",
       "      <td>-44.075800</td>\n",
       "      <td>2019-11-03 01:50:02.261</td>\n",
       "      <td>2019-11-03 01:05:57.713</td>\n",
       "    </tr>\n",
       "    <tr>\n",
       "      <td>2342137</td>\n",
       "      <td>-43.881933</td>\n",
       "      <td>2019-11-03 01:49:43.895</td>\n",
       "      <td>2019-11-03 01:05:50.979</td>\n",
       "    </tr>\n",
       "    <tr>\n",
       "      <td>2342139</td>\n",
       "      <td>-51.509117</td>\n",
       "      <td>2019-11-03 01:56:25.083</td>\n",
       "      <td>2019-11-03 01:04:54.536</td>\n",
       "    </tr>\n",
       "    <tr>\n",
       "      <td>2342140</td>\n",
       "      <td>-49.508183</td>\n",
       "      <td>2019-11-03 01:53:38.578</td>\n",
       "      <td>2019-11-03 01:04:08.087</td>\n",
       "    </tr>\n",
       "    <tr>\n",
       "      <td>2342141</td>\n",
       "      <td>-49.932333</td>\n",
       "      <td>2019-11-03 01:53:14.617</td>\n",
       "      <td>2019-11-03 01:03:18.677</td>\n",
       "    </tr>\n",
       "    <tr>\n",
       "      <td>2342142</td>\n",
       "      <td>-49.132000</td>\n",
       "      <td>2019-11-03 01:52:25.884</td>\n",
       "      <td>2019-11-03 01:03:17.964</td>\n",
       "    </tr>\n",
       "    <tr>\n",
       "      <td>2342143</td>\n",
       "      <td>-53.095083</td>\n",
       "      <td>2019-11-03 01:55:36.152</td>\n",
       "      <td>2019-11-03 01:02:30.447</td>\n",
       "    </tr>\n",
       "    <tr>\n",
       "      <td>2342144</td>\n",
       "      <td>-53.152450</td>\n",
       "      <td>2019-11-03 01:55:37.905</td>\n",
       "      <td>2019-11-03 01:02:28.758</td>\n",
       "    </tr>\n",
       "  </tbody>\n",
       "</table>\n",
       "</div>"
      ],
      "text/plain": [
       "         duration_minute              start_time                end_time\n",
       "2342111       -31.327200 2019-11-03 01:59:09.303 2019-11-03 01:27:49.671\n",
       "2342126       -41.311467 2019-11-03 01:59:37.722 2019-11-03 01:18:19.034\n",
       "2342134       -49.274000 2019-11-03 01:59:13.155 2019-11-03 01:09:56.715\n",
       "2342136       -44.075800 2019-11-03 01:50:02.261 2019-11-03 01:05:57.713\n",
       "2342137       -43.881933 2019-11-03 01:49:43.895 2019-11-03 01:05:50.979\n",
       "2342139       -51.509117 2019-11-03 01:56:25.083 2019-11-03 01:04:54.536\n",
       "2342140       -49.508183 2019-11-03 01:53:38.578 2019-11-03 01:04:08.087\n",
       "2342141       -49.932333 2019-11-03 01:53:14.617 2019-11-03 01:03:18.677\n",
       "2342142       -49.132000 2019-11-03 01:52:25.884 2019-11-03 01:03:17.964\n",
       "2342143       -53.095083 2019-11-03 01:55:36.152 2019-11-03 01:02:30.447\n",
       "2342144       -53.152450 2019-11-03 01:55:37.905 2019-11-03 01:02:28.758"
      ]
     },
     "execution_count": 20,
     "metadata": {},
     "output_type": "execute_result"
    }
   ],
   "source": [
    "# check inaccurate values in duration column\n",
    "part_df=df[df.duration_minute<0][['duration_minute','start_time','end_time']]\n",
    "part_df"
   ]
  },
  {
   "cell_type": "markdown",
   "metadata": {},
   "source": [
    "#### Define\n",
    "negative value in duration_minute column because start_time takes a place after end_time.  "
   ]
  },
  {
   "cell_type": "markdown",
   "metadata": {},
   "source": [
    "#### Code"
   ]
  },
  {
   "cell_type": "code",
   "execution_count": 21,
   "metadata": {},
   "outputs": [
    {
     "name": "stderr",
     "output_type": "stream",
     "text": [
      "C:\\Users\\DELL\\Anaconda3\\lib\\site-packages\\ipykernel_launcher.py:3: SettingWithCopyWarning: \n",
      "A value is trying to be set on a copy of a slice from a DataFrame\n",
      "\n",
      "See the caveats in the documentation: http://pandas.pydata.org/pandas-docs/stable/user_guide/indexing.html#returning-a-view-versus-a-copy\n",
      "  This is separate from the ipykernel package so we can avoid doing imports until\n",
      "C:\\Users\\DELL\\Anaconda3\\lib\\site-packages\\ipykernel_launcher.py:6: SettingWithCopyWarning: \n",
      "A value is trying to be set on a copy of a slice from a DataFrame\n",
      "\n",
      "See the caveats in the documentation: http://pandas.pydata.org/pandas-docs/stable/user_guide/indexing.html#returning-a-view-versus-a-copy\n",
      "  \n"
     ]
    }
   ],
   "source": [
    "\n",
    "for i in part_df.index:\n",
    "    #swap start time and end time columns for negative duration\n",
    "    df['start_time'][i],df['end_time'][i]=df['end_time'][i],df['start_time'][i]\n",
    "    \n",
    "    #make duration values positive.\n",
    "    df['duration_minute'][i]=np.abs(df['duration_minute'][i])\n",
    "\n",
    "    "
   ]
  },
  {
   "cell_type": "markdown",
   "metadata": {},
   "source": [
    "#### Test"
   ]
  },
  {
   "cell_type": "code",
   "execution_count": 22,
   "metadata": {},
   "outputs": [
    {
     "data": {
      "text/html": [
       "<div>\n",
       "<style scoped>\n",
       "    .dataframe tbody tr th:only-of-type {\n",
       "        vertical-align: middle;\n",
       "    }\n",
       "\n",
       "    .dataframe tbody tr th {\n",
       "        vertical-align: top;\n",
       "    }\n",
       "\n",
       "    .dataframe thead th {\n",
       "        text-align: right;\n",
       "    }\n",
       "</style>\n",
       "<table border=\"1\" class=\"dataframe\">\n",
       "  <thead>\n",
       "    <tr style=\"text-align: right;\">\n",
       "      <th></th>\n",
       "      <th>bike_id</th>\n",
       "      <th>bike_share_for_all_trip</th>\n",
       "      <th>duration_minute</th>\n",
       "      <th>end_station_id</th>\n",
       "      <th>end_station_latitude</th>\n",
       "      <th>end_station_longitude</th>\n",
       "      <th>end_station_name</th>\n",
       "      <th>end_time</th>\n",
       "      <th>rental_access_method</th>\n",
       "      <th>start_station_id</th>\n",
       "      <th>start_station_latitude</th>\n",
       "      <th>start_station_longitude</th>\n",
       "      <th>start_station_name</th>\n",
       "      <th>start_time</th>\n",
       "      <th>user_type</th>\n",
       "    </tr>\n",
       "  </thead>\n",
       "  <tbody>\n",
       "  </tbody>\n",
       "</table>\n",
       "</div>"
      ],
      "text/plain": [
       "Empty DataFrame\n",
       "Columns: [bike_id, bike_share_for_all_trip, duration_minute, end_station_id, end_station_latitude, end_station_longitude, end_station_name, end_time, rental_access_method, start_station_id, start_station_latitude, start_station_longitude, start_station_name, start_time, user_type]\n",
       "Index: []"
      ]
     },
     "execution_count": 22,
     "metadata": {},
     "output_type": "execute_result"
    }
   ],
   "source": [
    "#should return nothing\n",
    "df[df.duration_minute<0]"
   ]
  },
  {
   "cell_type": "markdown",
   "metadata": {},
   "source": [
    "#### Define\n",
    "- missing data in bike_share_for_all_trip ,end_station_id,end_station_name,rental_access_method,start_station_id and start_station_name columns\n",
    "- bike_share_for_all_trip and rental_access method columns are not important so it is better to remove them"
   ]
  },
  {
   "cell_type": "markdown",
   "metadata": {},
   "source": [
    "#### Code"
   ]
  },
  {
   "cell_type": "code",
   "execution_count": 23,
   "metadata": {},
   "outputs": [],
   "source": [
    "#drop bike_share_for_all_trip and rental_access_method columns\n",
    "df.drop(columns=['rental_access_method','bike_share_for_all_trip'],axis=1,inplace=True)"
   ]
  },
  {
   "cell_type": "code",
   "execution_count": 24,
   "metadata": {},
   "outputs": [],
   "source": [
    "# remove null values\n",
    "df.dropna(inplace=True)"
   ]
  },
  {
   "cell_type": "markdown",
   "metadata": {},
   "source": [
    "#### Test"
   ]
  },
  {
   "cell_type": "code",
   "execution_count": 25,
   "metadata": {},
   "outputs": [
    {
     "data": {
      "text/plain": [
       "bike_id                    0\n",
       "duration_minute            0\n",
       "end_station_id             0\n",
       "end_station_latitude       0\n",
       "end_station_longitude      0\n",
       "end_station_name           0\n",
       "end_time                   0\n",
       "start_station_id           0\n",
       "start_station_latitude     0\n",
       "start_station_longitude    0\n",
       "start_station_name         0\n",
       "start_time                 0\n",
       "user_type                  0\n",
       "dtype: int64"
      ]
     },
     "execution_count": 25,
     "metadata": {},
     "output_type": "execute_result"
    }
   ],
   "source": [
    "df.isnull().sum()"
   ]
  },
  {
   "cell_type": "code",
   "execution_count": 26,
   "metadata": {},
   "outputs": [],
   "source": [
    "# save clean_data\n",
    "df_clean=df.copy()\n",
    "#df.to_csv('ford_gobike_system_clean.csv')"
   ]
  },
  {
   "cell_type": "code",
   "execution_count": 27,
   "metadata": {},
   "outputs": [],
   "source": [
    "df.to_csv('ford_gobike_system_2019_clean.csv',index=False)\n"
   ]
  },
  {
   "cell_type": "markdown",
   "metadata": {},
   "source": [
    "## data exploration\n",
    "befor visualization ,many columns need to create to help making good visualization."
   ]
  },
  {
   "cell_type": "code",
   "execution_count": 28,
   "metadata": {},
   "outputs": [],
   "source": [
    "# create new column with day name\n",
    "df['day_of_week'] = df['start_time'].dt.day_name()"
   ]
  },
  {
   "cell_type": "code",
   "execution_count": 29,
   "metadata": {},
   "outputs": [],
   "source": [
    "# create new column with month\n",
    "df['month']=df['start_time'].dt.month\n",
    "\n",
    "# create new column with hour\n",
    "df['hour']=df['start_time'].dt.hour\n",
    "\n",
    "# create new column with day of month\n",
    "df['day_of_month']=df['start_time'].dt.day"
   ]
  },
  {
   "cell_type": "code",
   "execution_count": 59,
   "metadata": {},
   "outputs": [],
   "source": [
    "# dictionary to pass to replace method to determine which day is weekday and which day is weekend\n",
    "day_convert={'Saturday':'Weekend','Sunday':'Weekend','Monday':'Weekday','Tuesday':'Weekday','Wednesday':'Weekday','Friday':'Weekday','Thursday':'Weekday'}\n",
    "#create column to indicate weekdays and weekends\n",
    "df['state_of_day']=df['day_of_week'].replace(day_convert)"
   ]
  },
  {
   "cell_type": "code",
   "execution_count": 40,
   "metadata": {
    "scrolled": true
   },
   "outputs": [
    {
     "data": {
      "text/html": [
       "<div>\n",
       "<style scoped>\n",
       "    .dataframe tbody tr th:only-of-type {\n",
       "        vertical-align: middle;\n",
       "    }\n",
       "\n",
       "    .dataframe tbody tr th {\n",
       "        vertical-align: top;\n",
       "    }\n",
       "\n",
       "    .dataframe thead th {\n",
       "        text-align: right;\n",
       "    }\n",
       "</style>\n",
       "<table border=\"1\" class=\"dataframe\">\n",
       "  <thead>\n",
       "    <tr style=\"text-align: right;\">\n",
       "      <th></th>\n",
       "      <th>bike_id</th>\n",
       "      <th>duration_minute</th>\n",
       "      <th>end_station_id</th>\n",
       "      <th>end_station_latitude</th>\n",
       "      <th>end_station_longitude</th>\n",
       "      <th>end_station_name</th>\n",
       "      <th>end_time</th>\n",
       "      <th>start_station_id</th>\n",
       "      <th>start_station_latitude</th>\n",
       "      <th>start_station_longitude</th>\n",
       "      <th>start_station_name</th>\n",
       "      <th>start_time</th>\n",
       "      <th>user_type</th>\n",
       "      <th>day_of_week</th>\n",
       "      <th>month</th>\n",
       "      <th>hour</th>\n",
       "      <th>day_of_month</th>\n",
       "      <th>state_of_day</th>\n",
       "      <th>displacement</th>\n",
       "    </tr>\n",
       "  </thead>\n",
       "  <tbody>\n",
       "    <tr>\n",
       "      <td>0</td>\n",
       "      <td>4861</td>\n",
       "      <td>1347.087517</td>\n",
       "      <td>196</td>\n",
       "      <td>37.808894</td>\n",
       "      <td>-122.256460</td>\n",
       "      <td>Grand Ave at Perkins St</td>\n",
       "      <td>2019-02-01 16:24:49.864</td>\n",
       "      <td>229</td>\n",
       "      <td>37.775745</td>\n",
       "      <td>-122.213037</td>\n",
       "      <td>Foothill Blvd at 42nd Ave</td>\n",
       "      <td>2019-01-31 17:57:44.613</td>\n",
       "      <td>Subscriber</td>\n",
       "      <td>Thursday</td>\n",
       "      <td>1</td>\n",
       "      <td>17</td>\n",
       "      <td>31</td>\n",
       "      <td>weekday</td>\n",
       "      <td>5305.0</td>\n",
       "    </tr>\n",
       "    <tr>\n",
       "      <td>1</td>\n",
       "      <td>5506</td>\n",
       "      <td>1098.338117</td>\n",
       "      <td>134</td>\n",
       "      <td>37.752428</td>\n",
       "      <td>-122.420628</td>\n",
       "      <td>Valencia St at 24th St</td>\n",
       "      <td>2019-02-01 15:16:54.173</td>\n",
       "      <td>4</td>\n",
       "      <td>37.785881</td>\n",
       "      <td>-122.408915</td>\n",
       "      <td>Cyril Magnin St at Ellis St</td>\n",
       "      <td>2019-01-31 20:58:33.886</td>\n",
       "      <td>Subscriber</td>\n",
       "      <td>Thursday</td>\n",
       "      <td>1</td>\n",
       "      <td>20</td>\n",
       "      <td>31</td>\n",
       "      <td>weekday</td>\n",
       "      <td>3860.0</td>\n",
       "    </tr>\n",
       "    <tr>\n",
       "      <td>2</td>\n",
       "      <td>2717</td>\n",
       "      <td>1043.893433</td>\n",
       "      <td>157</td>\n",
       "      <td>37.846784</td>\n",
       "      <td>-122.291376</td>\n",
       "      <td>65th St at Hollis St</td>\n",
       "      <td>2019-02-01 11:30:46.530</td>\n",
       "      <td>245</td>\n",
       "      <td>37.870139</td>\n",
       "      <td>-122.268422</td>\n",
       "      <td>Downtown Berkeley BART</td>\n",
       "      <td>2019-01-31 18:06:52.924</td>\n",
       "      <td>Customer</td>\n",
       "      <td>Thursday</td>\n",
       "      <td>1</td>\n",
       "      <td>18</td>\n",
       "      <td>31</td>\n",
       "      <td>weekday</td>\n",
       "      <td>3287.0</td>\n",
       "    </tr>\n",
       "    <tr>\n",
       "      <td>3</td>\n",
       "      <td>4557</td>\n",
       "      <td>744.676650</td>\n",
       "      <td>53</td>\n",
       "      <td>37.775946</td>\n",
       "      <td>-122.437777</td>\n",
       "      <td>Grove St at Divisadero</td>\n",
       "      <td>2019-02-01 08:10:50.318</td>\n",
       "      <td>85</td>\n",
       "      <td>37.770083</td>\n",
       "      <td>-122.429156</td>\n",
       "      <td>Church St at Duboce Ave</td>\n",
       "      <td>2019-01-31 19:46:09.719</td>\n",
       "      <td>Customer</td>\n",
       "      <td>Thursday</td>\n",
       "      <td>1</td>\n",
       "      <td>19</td>\n",
       "      <td>31</td>\n",
       "      <td>weekday</td>\n",
       "      <td>1000.0</td>\n",
       "    </tr>\n",
       "    <tr>\n",
       "      <td>4</td>\n",
       "      <td>2100</td>\n",
       "      <td>1011.825400</td>\n",
       "      <td>28</td>\n",
       "      <td>37.787168</td>\n",
       "      <td>-122.388098</td>\n",
       "      <td>The Embarcadero at Bryant St</td>\n",
       "      <td>2019-02-01 07:10:51.065</td>\n",
       "      <td>16</td>\n",
       "      <td>37.794130</td>\n",
       "      <td>-122.394430</td>\n",
       "      <td>Steuart St at Market St</td>\n",
       "      <td>2019-01-31 14:19:01.541</td>\n",
       "      <td>Customer</td>\n",
       "      <td>Thursday</td>\n",
       "      <td>1</td>\n",
       "      <td>14</td>\n",
       "      <td>31</td>\n",
       "      <td>weekday</td>\n",
       "      <td>953.0</td>\n",
       "    </tr>\n",
       "  </tbody>\n",
       "</table>\n",
       "</div>"
      ],
      "text/plain": [
       "   bike_id  duration_minute  end_station_id  end_station_latitude  \\\n",
       "0     4861      1347.087517             196             37.808894   \n",
       "1     5506      1098.338117             134             37.752428   \n",
       "2     2717      1043.893433             157             37.846784   \n",
       "3     4557       744.676650              53             37.775946   \n",
       "4     2100      1011.825400              28             37.787168   \n",
       "\n",
       "   end_station_longitude              end_station_name  \\\n",
       "0            -122.256460       Grand Ave at Perkins St   \n",
       "1            -122.420628        Valencia St at 24th St   \n",
       "2            -122.291376          65th St at Hollis St   \n",
       "3            -122.437777        Grove St at Divisadero   \n",
       "4            -122.388098  The Embarcadero at Bryant St   \n",
       "\n",
       "                 end_time  start_station_id  start_station_latitude  \\\n",
       "0 2019-02-01 16:24:49.864               229               37.775745   \n",
       "1 2019-02-01 15:16:54.173                 4               37.785881   \n",
       "2 2019-02-01 11:30:46.530               245               37.870139   \n",
       "3 2019-02-01 08:10:50.318                85               37.770083   \n",
       "4 2019-02-01 07:10:51.065                16               37.794130   \n",
       "\n",
       "   start_station_longitude           start_station_name  \\\n",
       "0              -122.213037    Foothill Blvd at 42nd Ave   \n",
       "1              -122.408915  Cyril Magnin St at Ellis St   \n",
       "2              -122.268422       Downtown Berkeley BART   \n",
       "3              -122.429156      Church St at Duboce Ave   \n",
       "4              -122.394430      Steuart St at Market St   \n",
       "\n",
       "               start_time   user_type day_of_week  month  hour  day_of_month  \\\n",
       "0 2019-01-31 17:57:44.613  Subscriber    Thursday      1    17            31   \n",
       "1 2019-01-31 20:58:33.886  Subscriber    Thursday      1    20            31   \n",
       "2 2019-01-31 18:06:52.924    Customer    Thursday      1    18            31   \n",
       "3 2019-01-31 19:46:09.719    Customer    Thursday      1    19            31   \n",
       "4 2019-01-31 14:19:01.541    Customer    Thursday      1    14            31   \n",
       "\n",
       "  state_of_day  displacement  \n",
       "0      weekday        5305.0  \n",
       "1      weekday        3860.0  \n",
       "2      weekday        3287.0  \n",
       "3      weekday        1000.0  \n",
       "4      weekday         953.0  "
      ]
     },
     "execution_count": 40,
     "metadata": {},
     "output_type": "execute_result"
    }
   ],
   "source": [
    "df.head()"
   ]
  },
  {
   "cell_type": "markdown",
   "metadata": {},
   "source": [
    "### what is the structure of the dataset\n",
    "these dataset records information about users of bay wheels service which is id of bike they have used ,where and when they have took and leave it ,how long they have used it and record the coordinates of them.\n",
    "<br>\n",
    " most of these information are numbers so it easy to investigate."
   ]
  },
  {
   "cell_type": "markdown",
   "metadata": {},
   "source": [
    "### What is/are the main feature(s) of interest in your dataset?\n",
    "I am interested in figure out what features are best for improving this service  "
   ]
  },
  {
   "cell_type": "markdown",
   "metadata": {},
   "source": [
    "## Univariate Exploration\n"
   ]
  },
  {
   "cell_type": "markdown",
   "metadata": {
    "slideshow": {
     "slide_type": "slide"
    }
   },
   "source": [
    "## what are the most days users use ford bike??"
   ]
  },
  {
   "cell_type": "code",
   "execution_count": 41,
   "metadata": {
    "slideshow": {
     "slide_type": "subslide"
    }
   },
   "outputs": [
    {
     "data": {
      "image/png": "[encoded data removed]",
      "text/plain": [
       "<Figure size 432x288 with 1 Axes>"
      ]
     },
     "metadata": {
      "needs_background": "light"
     },
     "output_type": "display_data"
    }
   ],
   "source": [
    "#When are most trips taken in term\n",
    "weekend_color=sb.color_palette()[1]\n",
    "weekday_color=sb.color_palette()[0]\n",
    "color=[weekend_color,weekend_color,weekday_color,weekday_color,\n",
    "       weekday_color,weekday_color,weekday_color]\n",
    "order=['Saturday','Sunday','Monday','Tuesday','Wednesday','Thursday','Friday']\n",
    "sb.countplot(data=df,x='day_of_week',palette=color,order=order)\n",
    "plt.xticks(rotation=25)\n",
    "plt.title('number of user per day')\n",
    "plt.ylabel('no.of user')\n",
    "plt.xlabel('day of week')\n",
    "\n",
    "# create alegend\n",
    "red_patch = mpatches.Patch(color=weekday_color, label='weekday')\n",
    "pathch=mpatches.Patch(color=weekend_color,label='weekend')\n",
    "plt.legend(handles=[red_patch,pathch])\n",
    "plt.show()"
   ]
  },
  {
   "cell_type": "markdown",
   "metadata": {
    "slideshow": {
     "slide_type": "fragment"
    }
   },
   "source": [
    "users -whatever they are customer or subscriber -use bay wheels service during whole week ,the frequently use it in weekday expect saturday and sunday which is weekend ,so we can say that they use it for work like going to school or going to work "
   ]
  },
  {
   "cell_type": "markdown",
   "metadata": {
    "slideshow": {
     "slide_type": "slide"
    }
   },
   "source": [
    "### most of users are customer or subscriber??"
   ]
  },
  {
   "cell_type": "code",
   "execution_count": 42,
   "metadata": {
    "slideshow": {
     "slide_type": "subslide"
    }
   },
   "outputs": [
    {
     "data": {
      "image/png": "[encoded data removed]",
      "text/plain": [
       "<Figure size 432x288 with 1 Axes>"
      ]
     },
     "metadata": {
      "needs_background": "light"
     },
     "output_type": "display_data"
    }
   ],
   "source": [
    "user_count=df['user_type'].value_counts()\n",
    "total=df.shape[0]\n",
    "sb.countplot(df.user_type,order=user_count.index)\n",
    "plt.ylabel('No.of users')\n",
    "plt.title('Customer VS Subscriber')\n",
    "plt.xlabel('User Type')\n",
    "index=0\n",
    "\n",
    "#make a text in top of bars\n",
    "for i in user_count.keys():\n",
    "    plt.text(index,user_count[i]-120000,'{:0.2f}%'.format(user_count[i]/total*100),ha='center',color='w')\n",
    "    index+=1"
   ]
  },
  {
   "cell_type": "markdown",
   "metadata": {
    "slideshow": {
     "slide_type": "fragment"
    }
   },
   "source": [
    "it is clear that most users are subscriber and this is expected as people use this service frequently ,they prefer to be subscriebr. "
   ]
  },
  {
   "cell_type": "markdown",
   "metadata": {
    "slideshow": {
     "slide_type": "slide"
    }
   },
   "source": [
    "### what the average duration in minuit ??"
   ]
  },
  {
   "cell_type": "code",
   "execution_count": 43,
   "metadata": {
    "slideshow": {
     "slide_type": "subslide"
    }
   },
   "outputs": [
    {
     "name": "stdout",
     "output_type": "stream",
     "text": [
      "the minimum value of duration : 1.00 minutes\n",
      "the mean of duration : 13.42 minutes\n",
      "the maximum value of duration : 1437.17 minutes\n"
     ]
    },
    {
     "data": {
      "image/png": "[encoded data removed]",
      "text/plain": [
       "<Figure size 432x288 with 1 Axes>"
      ]
     },
     "metadata": {
      "needs_background": "light"
     },
     "output_type": "display_data"
    }
   ],
   "source": [
    "print('the minimum value of duration : {:0.2f}'.format(df.duration_minute.min()),'minutes')\n",
    "print('the mean of duration : ',end='')\n",
    "print('{:0.2f}'.format(df.duration_minute.mean()),'minutes')\n",
    "print('the maximum value of duration : {:0.2f}'.format(df.duration_minute.max()),'minutes')\n",
    "\n",
    "#create a histgram \n",
    "plt.hist(df.duration_minute,bins=np.arange(0,200,2));"
   ]
  },
  {
   "cell_type": "markdown",
   "metadata": {
    "slideshow": {
     "slide_type": "fragment"
    }
   },
   "source": [
    "the mean duration in minute is 13 minutes with minimum value 1 minutes and maximum value is 1437 minutes(24 hour) ,this doesn't make sense because nobody can ride a bike for whole day ,in my openion the user forget to record the end of his trip,but most of user don't exceed 50 minutes and rare users use it more than an hour"
   ]
  },
  {
   "cell_type": "markdown",
   "metadata": {
    "slideshow": {
     "slide_type": "slide"
    }
   },
   "source": [
    "### the most frequent months bay wheel service is used?"
   ]
  },
  {
   "cell_type": "code",
   "execution_count": 44,
   "metadata": {
    "slideshow": {
     "slide_type": "subslide"
    }
   },
   "outputs": [
    {
     "data": {
      "text/plain": [
       "<matplotlib.axes._subplots.AxesSubplot at 0x24b0ed27cc0>"
      ]
     },
     "execution_count": 44,
     "metadata": {},
     "output_type": "execute_result"
    },
    {
     "data": {
      "image/png": "[encoded data removed]",
      "text/plain": [
       "<Figure size 432x288 with 1 Axes>"
      ]
     },
     "metadata": {
      "needs_background": "light"
     },
     "output_type": "display_data"
    }
   ],
   "source": [
    "# number of users per month\n",
    "base_color=sb.color_palette()[0]\n",
    "sb.countplot(df.month,color=base_color)"
   ]
  },
  {
   "cell_type": "markdown",
   "metadata": {
    "slideshow": {
     "slide_type": "fragment"
    }
   },
   "source": [
    "they frequently use this service in march ,april,august,september and october \n",
    "<br>\n",
    "they use it in december a little bit\n",
    "<br>\n",
    "the rest of months ,they used it normally"
   ]
  },
  {
   "cell_type": "markdown",
   "metadata": {
    "slideshow": {
     "slide_type": "slide"
    }
   },
   "source": [
    "### what is the most frequently hour users used bay bike?"
   ]
  },
  {
   "cell_type": "code",
   "execution_count": 45,
   "metadata": {
    "scrolled": true,
    "slideshow": {
     "slide_type": "subslide"
    }
   },
   "outputs": [
    {
     "data": {
      "image/png": "[encoded data removed]",
      "text/plain": [
       "<Figure size 432x288 with 1 Axes>"
      ]
     },
     "metadata": {
      "needs_background": "light"
     },
     "output_type": "display_data"
    }
   ],
   "source": [
    "#array of hours to make bins\n",
    "bins=np.arange(25)\n",
    "#ticks to put in x axis to show hours\n",
    "ticks=np.arange(0,25,2)\n",
    "plt.hist(df.hour,bins=bins)\n",
    "plt.xticks(ticks);\n",
    "plt.title('Number Of Users Per Hour')\n",
    "plt.xlabel('Hour')\n",
    "plt.ylabel(\" Users Count\")\n",
    "plt.show();"
   ]
  },
  {
   "cell_type": "markdown",
   "metadata": {
    "slideshow": {
     "slide_type": "fragment"
    }
   },
   "source": [
    " It rarely used during night espacially after 12PM \n",
    " <br>\n",
    " it frequently used from 7AM to 10AM and from 5PM to 8Pm and from 10Am to 5PM it used normally "
   ]
  },
  {
   "cell_type": "markdown",
   "metadata": {
    "slideshow": {
     "slide_type": "skip"
    }
   },
   "source": [
    "## Bivariate Exploration"
   ]
  },
  {
   "cell_type": "markdown",
   "metadata": {
    "slideshow": {
     "slide_type": "slide"
    }
   },
   "source": [
    "### which day ford bikes are used frequently ?"
   ]
  },
  {
   "cell_type": "code",
   "execution_count": 49,
   "metadata": {
    "slideshow": {
     "slide_type": "subslide"
    }
   },
   "outputs": [
    {
     "data": {
      "text/plain": [
       "Text(0, 0.5, 'Avg.duration(minute)')"
      ]
     },
     "execution_count": 49,
     "metadata": {},
     "output_type": "execute_result"
    },
    {
     "data": {
      "image/png": "[encoded data removed]",
      "text/plain": [
       "<Figure size 432x288 with 1 Axes>"
      ]
     },
     "metadata": {
      "needs_background": "light"
     },
     "output_type": "display_data"
    }
   ],
   "source": [
    "# create abar plot to show the average time along the week\n",
    "sb.barplot(data=df,x='day_of_week',y='duration_minute',color=base_color,errwidth=0)\n",
    "#rotate the tick name in x axis\n",
    "plt.xticks(rotation=20)\n",
    "plt.title('Avg.duration every day')\n",
    "plt.xlabel('weekday')\n",
    "plt.ylabel('Avg.duration(minute)')"
   ]
  },
  {
   "cell_type": "markdown",
   "metadata": {
    "slideshow": {
     "slide_type": "fragment"
    }
   },
   "source": [
    "Also ford bike are used a little bit during weekend but user use it for a long period on weekend"
   ]
  },
  {
   "cell_type": "markdown",
   "metadata": {},
   "source": [
    "### what is the relation between state of day and duration?"
   ]
  },
  {
   "cell_type": "code",
   "execution_count": 60,
   "metadata": {},
   "outputs": [
    {
     "data": {
      "text/plain": [
       "<matplotlib.axes._subplots.AxesSubplot at 0x24b1ba728d0>"
      ]
     },
     "execution_count": 60,
     "metadata": {},
     "output_type": "execute_result"
    },
    {
     "data": {
      "image/png": "[encoded data removed]",
      "text/plain": [
       "<Figure size 432x288 with 1 Axes>"
      ]
     },
     "metadata": {
      "needs_background": "light"
     },
     "output_type": "display_data"
    }
   ],
   "source": [
    "# barplor to get the mean of duration in weekend and weekday\n",
    "sb.barplot(data=df,x='state_of_day',y='duration_minute',errwidth=0)\n",
    "plt.title('mean duration on weekends and weekdays')\n",
    "#empty label \n",
    "plt.xlabel('')\n",
    "plt.ylabel('mean of duration (minute)')\n",
    "plt.show();"
   ]
  },
  {
   "cell_type": "markdown",
   "metadata": {},
   "source": [
    "also people use bikes frequently during weekdays more than that of weekends ,the mean duration of weekends is bigger than that of weekdays,may because during weekday people seeks to go to their distinations queckly,on the other hand on weekend the have free time so no need to be fast."
   ]
  },
  {
   "cell_type": "markdown",
   "metadata": {
    "slideshow": {
     "slide_type": "slide"
    }
   },
   "source": [
    "### who used ford bike for along time"
   ]
  },
  {
   "cell_type": "code",
   "execution_count": 63,
   "metadata": {
    "slideshow": {
     "slide_type": "subslide"
    }
   },
   "outputs": [
    {
     "data": {
      "text/plain": [
       "<matplotlib.axes._subplots.AxesSubplot at 0x24ab8a0e390>"
      ]
     },
     "execution_count": 63,
     "metadata": {},
     "output_type": "execute_result"
    },
    {
     "data": {
      "image/png": "[encoded data removed]",
      "text/plain": [
       "<Figure size 432x288 with 1 Axes>"
      ]
     },
     "metadata": {
      "needs_background": "light"
     },
     "output_type": "display_data"
    }
   ],
   "source": [
    "sb.barplot(data=df,x='user_type',y='duration_minute',errwidth=0)\n",
    "plt.title('mean time for user')\n",
    "plt.xlabel('User type')\n",
    "plt.ylabel('mean of duration time(minute)')\n",
    "plt.show();"
   ]
  },
  {
   "cell_type": "markdown",
   "metadata": {
    "slideshow": {
     "slide_type": "fragment"
    }
   },
   "source": [
    "it's clear that customer used ford bike longer than subscriber "
   ]
  },
  {
   "cell_type": "markdown",
   "metadata": {},
   "source": [
    "### Customer VS Subscriber in duration time"
   ]
  },
  {
   "cell_type": "code",
   "execution_count": 65,
   "metadata": {},
   "outputs": [
    {
     "data": {
      "text/plain": [
       "<matplotlib.axes._subplots.AxesSubplot at 0x24ab8f25320>"
      ]
     },
     "execution_count": 65,
     "metadata": {},
     "output_type": "execute_result"
    },
    {
     "data": {
      "image/png": "[encoded data removed]",
      "text/plain": [
       "<Figure size 432x288 with 1 Axes>"
      ]
     },
     "metadata": {
      "needs_background": "light"
     },
     "output_type": "display_data"
    }
   ],
   "source": [
    "#box plot to data which duration is less than 100 minute\n",
    "sb.boxplot(data=df[df.duration_minute<100],x='user_type',y='duration_minute')\n"
   ]
  },
  {
   "cell_type": "markdown",
   "metadata": {},
   "source": [
    "as most duration time range from zero to 50 minute i make boxplot visualization in this range to see the relation between subscriber and customer and it seems that the customers concour the subscribers in duration minute as minimum and maximum duration for customers is bigger than that of subscriber and first and third quatile too."
   ]
  },
  {
   "cell_type": "markdown",
   "metadata": {},
   "source": [
    "### is subscriber use bikes more than customer in both weekday and weekend?"
   ]
  },
  {
   "cell_type": "code",
   "execution_count": 66,
   "metadata": {},
   "outputs": [
    {
     "data": {
      "text/plain": [
       "<matplotlib.axes._subplots.AxesSubplot at 0x24ab94016a0>"
      ]
     },
     "execution_count": 66,
     "metadata": {},
     "output_type": "execute_result"
    },
    {
     "data": {
      "image/png": "[encoded data removed]",
      "text/plain": [
       "<Figure size 432x288 with 1 Axes>"
      ]
     },
     "metadata": {
      "needs_background": "light"
     },
     "output_type": "display_data"
    }
   ],
   "source": [
    "sb.countplot(data=df,x='state_of_day',hue='user_type')"
   ]
  },
  {
   "cell_type": "markdown",
   "metadata": {},
   "source": [
    "through this plot ,subscriber used bikes more than customer on both weekday and weekend,but in weekend they approximatly the same."
   ]
  },
  {
   "cell_type": "markdown",
   "metadata": {},
   "source": [
    "### is the relation between no.of customer and subscriber changes over months?"
   ]
  },
  {
   "cell_type": "code",
   "execution_count": 67,
   "metadata": {},
   "outputs": [
    {
     "data": {
      "text/plain": [
       "<matplotlib.axes._subplots.AxesSubplot at 0x24ab9c7a080>"
      ]
     },
     "execution_count": 67,
     "metadata": {},
     "output_type": "execute_result"
    },
    {
     "data": {
      "image/png": "[encoded data removed]",
      "text/plain": [
       "<Figure size 432x288 with 1 Axes>"
      ]
     },
     "metadata": {
      "needs_background": "light"
     },
     "output_type": "display_data"
    }
   ],
   "source": [
    "sb.countplot(data=df,x='month',hue='user_type')"
   ]
  },
  {
   "cell_type": "markdown",
   "metadata": {},
   "source": [
    "No the have the same relation over months ,the both decrease in summer holiday months and increase in other months. "
   ]
  },
  {
   "cell_type": "markdown",
   "metadata": {},
   "source": [
    "## Multivariate Exploraation"
   ]
  },
  {
   "cell_type": "markdown",
   "metadata": {},
   "source": [
    "### the relation between mean of subscriber and customer during the week?"
   ]
  },
  {
   "cell_type": "code",
   "execution_count": 71,
   "metadata": {},
   "outputs": [
    {
     "data": {
      "text/plain": [
       "Text(0, 0.5, 'avg.duration')"
      ]
     },
     "execution_count": 71,
     "metadata": {},
     "output_type": "execute_result"
    },
    {
     "data": {
      "image/png": "[encoded data removed]",
      "text/plain": [
       "<Figure size 432x288 with 1 Axes>"
      ]
     },
     "metadata": {
      "needs_background": "light"
     },
     "output_type": "display_data"
    }
   ],
   "source": [
    "#barplot to indicate the relation between mean of duration to both subscriber and customer through the week.\n",
    "sb.barplot(data=df,x='day_of_week',y='duration_minute',hue='user_type',errwidth=0)\n",
    "plt.xticks(rotation=15)\n",
    "plt.title('avg.duration for customer and subscriber during week ')\n",
    "plt.xlabel('weekday')\n",
    "plt.ylabel('avg.duration')"
   ]
  },
  {
   "cell_type": "markdown",
   "metadata": {},
   "source": [
    "it seems that no change or abnormal situation."
   ]
  },
  {
   "cell_type": "markdown",
   "metadata": {},
   "source": [
    "### is the distribution of duration in each weekend and weekday over months?"
   ]
  },
  {
   "cell_type": "code",
   "execution_count": 73,
   "metadata": {},
   "outputs": [
    {
     "data": {
      "text/plain": [
       "<seaborn.axisgrid.FacetGrid at 0x24ab970ff60>"
      ]
     },
     "execution_count": 73,
     "metadata": {},
     "output_type": "execute_result"
    },
    {
     "data": {
      "image/png": "[encoded data removed]",
      "text/plain": [
       "<Figure size 2592x432 with 24 Axes>"
      ]
     },
     "metadata": {
      "needs_background": "light"
     },
     "output_type": "display_data"
    }
   ],
   "source": [
    "g=sb.FacetGrid(data=df,col='month',row='state_of_day')\n",
    "g.map(plt.hist,'duration_minute',bins=np.arange(0,100,5))"
   ]
  },
  {
   "cell_type": "code",
   "execution_count": 76,
   "metadata": {},
   "outputs": [
    {
     "data": {
      "text/plain": [
       "<seaborn.axisgrid.FacetGrid at 0x24b0edb4c88>"
      ]
     },
     "execution_count": 76,
     "metadata": {},
     "output_type": "execute_result"
    },
    {
     "data": {
      "image/png": "[encoded data removed]",
      "text/plain": [
       "<Figure size 2592x432 with 24 Axes>"
      ]
     },
     "metadata": {
      "needs_background": "light"
     },
     "output_type": "display_data"
    }
   ],
   "source": [
    "g=sb.FacetGrid(data=df,col='month',row='user_type')\n",
    "g.map(plt.hist,'duration_minute',bins=np.arange(0,100,5))"
   ]
  },
  {
   "cell_type": "markdown",
   "metadata": {},
   "source": [
    "the distribution is looks so normal and there isn't and weird situation and thats preety good because bay wheels won't face any surprises "
   ]
  },
  {
   "cell_type": "markdown",
   "metadata": {},
   "source": [
    "### the relation between mean of customer and subscriber in weekend and weekday"
   ]
  },
  {
   "cell_type": "code",
   "execution_count": 78,
   "metadata": {},
   "outputs": [
    {
     "data": {
      "text/plain": [
       "<matplotlib.axes._subplots.AxesSubplot at 0x24a9b412f28>"
      ]
     },
     "execution_count": 78,
     "metadata": {},
     "output_type": "execute_result"
    },
    {
     "data": {
      "image/png": "[encoded data removed]",
      "text/plain": [
       "<Figure size 432x288 with 1 Axes>"
      ]
     },
     "metadata": {
      "needs_background": "light"
     },
     "output_type": "display_data"
    }
   ],
   "source": [
    "sb.barplot(data=df,x='state_of_day',y='duration_minute',hue='user_type',errwidth=0)"
   ]
  },
  {
   "cell_type": "markdown",
   "metadata": {},
   "source": [
    "mean of duration of customer is bigger than that of suscriber ,\n",
    "<br>\n",
    "the mean of customer at weekend is bigger that of weekday\n",
    "<br>\n",
    "the mean of subscriber is the same during the week if it was at weekend or weekday "
   ]
  },
  {
   "cell_type": "markdown",
   "metadata": {},
   "source": [
    "## sourses\n",
    "- https://stackoverflow.com/\n",
    "- https://pandas.pydata.org/pandas-docs/stable/\n",
    "- python for data analysis book\n",
    "- https://www.geeksforgeeks.org/\n",
    "- https://seaborn.pydata.org/generated/seaborn.barplot.html\n",
    "- https://www.makeareadme.com/"
   ]
  },
  {
   "cell_type": "code",
   "execution_count": null,
   "metadata": {},
   "outputs": [],
   "source": []
  }
 ],
 "metadata": {
  "kernelspec": {
   "display_name": "Python 3",
   "language": "python",
   "name": "python3"
  },
  "language_info": {
   "codemirror_mode": {
    "name": "ipython",
    "version": 3
   },
   "file_extension": ".py",
   "mimetype": "text/x-python",
   "name": "python",
   "nbconvert_exporter": "python",
   "pygments_lexer": "ipython3",
   "version": "3.7.3"
  }
 },
 "nbformat": 4,
 "nbformat_minor": 2
}
